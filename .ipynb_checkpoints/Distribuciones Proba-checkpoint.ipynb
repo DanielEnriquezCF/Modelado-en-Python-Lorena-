{
 "cells": [
  {
   "cell_type": "markdown",
   "metadata": {},
   "source": [
    "## Contenido\n",
    "\n",
    "\n",
    "- [Distribuciones de Probabilidad](#Distribuciones-de-Probabilidad)\n",
    "    - [Distribuciones Discretas notables](#Distribuciones-Discretas-notables)\n",
    "        - [Distribución de Bernoulli](#Distribución-de-Bernoulli)\n",
    "        - [Distribución Binomial.](#Distribución-Binomial.)\n",
    "        - [Distribución Geométrica](#Distribución-Geométrica)\n",
    "        - [Distribución de Poisson](#Distribución-de-Poisson)\n",
    "        - [Distribución hipergeométrica](#Distribución-hipergeométrica)\n",
    "    - [Distribuciones continuas notables](#Distribuciones-continuas-notables)\n",
    "        - [Distribución uniforme](#Distribución-uniforme)\n",
    "        - [Distribución normal](#Distribución-normal)\n",
    "\n",
    "        \n",
    " \n",
    " \n",
    "- [Ley de los grandes Números](#Ley-de-los-grandes-Números)\n",
    "\n",
    "                \n",
    "    \n",
    "- [Teorema central del límite](#Teorema-central-del-límite)\n",
    "       \n",
    "    \n",
    "        \n",
    "    \n"
   ]
  },
  {
   "cell_type": "markdown",
   "metadata": {},
   "source": [
    "## Distribuciones de Probabilidad\n",
    "### Distribuciones Discretas notables\n",
    "\n",
    "\n",
    "Una vez que definimos las propiedades anteriores es hora de hablar de las distribuciones de probabilidad notables de cada tipo de variable y de empezar a trabajarlas con python, empezaremos como es natural con las variables discretas.\n",
    "\n",
    "\n",
    "#### Distribución de Bernoulli\n",
    "\n",
    "\n",
    "\n",
    "Esta es la distribución más sencilla de todas, en la que tenemos un experimento que solo tiene dos posibles resultados, éxito o fracaso, y vamos a suponer que la probabilidad de éxito $P(E) = p$ y la probabilidad de fracaso es $P(F) = 1 - p = q$, la variable aleatoria que describe este suceso es $X$ talque $X(E) = 1$ y $X(F) = 0$. Bajo estas características diremos que $X$ sigue una distribución de Bernoulli con parámetro $p$, y lo denotaremos como:\n",
    "\n",
    "$$X \\sim Ber(p)$$\n",
    "\n",
    "\n",
    "A este tipo de experimento se le conoce como experimento de Bernoulli (Jacob), En este caso el valor esperado es simplemente $E(X) = p$ y la varianza es $var(X) = pq$."
   ]
  },
  {
   "cell_type": "markdown",
   "metadata": {},
   "source": [
    "[Regresar al contenido](#Contenido)"
   ]
  },
  {
   "cell_type": "markdown",
   "metadata": {},
   "source": [
    "#### Distribución Binomial.\n",
    "\n",
    "la distribución binomial es una distribución de probabilidad discreta que cuenta el número de éxitos en una secuencia de $n$ ensayos de [Bernoulli](https://es.wikipedia.org/wiki/Ensayo_de_Bernoulli) **independientes entre sí**. En la distribución binomial el anterior experimento se repite $n$ veces, de forma independiente, y se trata de calcular la probabilidad de un determinado número de éxitos. La representaremos como:\n",
    "\n",
    "\n",
    "$$X \\sim B(n, p)$$\n",
    "\n",
    "\n",
    "\n",
    "La variable aleatoria que analizamos es el número de casos _éxito_ dentro de los n ensayos, por lo que la variable $X$ toma valores en ${0, 1, 2, 3, \\cdots, n}$. La función de probabilidad de la distribución binomial es:\n",
    "\n",
    "$$P(x) = {n \\choose x}p^x(1-p)^{n-x}$$\n",
    "\n",
    "Recordando que ${n \\choose x} = \\frac{n!}{x!(n-x)!}$\n",
    "\n",
    "\n",
    "Y la función de distribución será:\n",
    "\n",
    "$$F_X(x) = \\sum_{i = 0}^{x} P(X = i)$$\n",
    "\n",
    "\n",
    "Y se tiene $E(X) = np$ y la varianza es $var(X) = npq$."
   ]
  },
  {
   "cell_type": "code",
   "execution_count": null,
   "metadata": {},
   "outputs": [],
   "source": [
    "import numpy as np\n",
    "import matplotlib.pyplot as plt\n",
    "from scipy import stats"
   ]
  },
  {
   "cell_type": "code",
   "execution_count": null,
   "metadata": {},
   "outputs": [],
   "source": [
    "dist =stats.binom(10, 1/6)"
   ]
  },
  {
   "cell_type": "code",
   "execution_count": null,
   "metadata": {},
   "outputs": [],
   "source": []
  },
  {
   "cell_type": "markdown",
   "metadata": {},
   "source": [
    "Como Ejemplo supongamos que tenemos una urna con 100 bolas, 40 rojas y 60 blancas, si tomamos al azar una bola anotamos su color y lo devolvemos, llamemos al caso sacar una bola roja como el caso de éxito y repitamos el experimento 10 veces, en este caso nuestra variable aleatoria $X$ que cuente el número de veces que sacamos una bola roja seguirá una distribución $B(10, 0.4)$"
   ]
  },
  {
   "cell_type": "code",
   "execution_count": null,
   "metadata": {},
   "outputs": [],
   "source": []
  },
  {
   "cell_type": "markdown",
   "metadata": {},
   "source": [
    "[Regresar al contenido](#Contenido)"
   ]
  },
  {
   "cell_type": "markdown",
   "metadata": {},
   "source": [
    "#### Distribución Geométrica\n",
    "\n",
    "la distribución de probabilidad del número $X$ de ensayos de Bernoulli con parámetro $p$ necesarios para obtener un éxito, la función de probabilidad de la distribución geométrica es:\n",
    "\n",
    "\n",
    "$$P(X = x) = q^x p$$\n",
    "\n",
    "Diremos entonces que $X$ sigue una distribución de probabilidad geométrica de parámetro $p$ y lo representaremos como:\n",
    "\n",
    "$$X \\sim Ge(p)$$\n",
    " \n",
    "En Python la función stats.geom implementa la distribución geométrica empezando en 1"
   ]
  },
  {
   "cell_type": "code",
   "execution_count": null,
   "metadata": {},
   "outputs": [],
   "source": []
  },
  {
   "cell_type": "markdown",
   "metadata": {},
   "source": [
    "[Regresar al contenido](#Contenido)"
   ]
  },
  {
   "cell_type": "markdown",
   "metadata": {},
   "source": [
    "#### Distribución de Poisson\n",
    "\n",
    "La distribución de Poisson es una distribución de probabilidad discreta que se aplica a las ocurrencias de algún suceso durante un intervalo determinado. Nuestra variable aleatoria $X$ representará el _número de ocurrencias de un suceso en un intervalo determinado, el cual podrá ser tiempo, distancia, área, volumen o alguna otra unidad similar o derivada de éstas._\n",
    "\n",
    "La variable aleatoria discreta $X$ debe cumplir ciertos requisitos:\n",
    "\n",
    "- Debe ser un evento aleatorio\n",
    "- Los sucesos que estamos estudiando deben ser **independientes**\n",
    "\n",
    "La probabilidad de nuestra variable aleatoria X viene dada por la siguiente expresión: \n",
    "\n",
    "$$P(X, \\lambda) = \\frac{e^{-\\lambda}\\lambda^X}{X!}$$\n",
    "\n",
    "- X es el número de ocurrencias del evento estudiado\n",
    "- $\\lambda$ es un parámetro positivo que representa el número de veces que se espera que ocurra el fenómeno durante un intervalo dado. Por ejemplo, si el suceso estudiado tiene lugar en promedio 4 veces por minuto y estamos interesados en la probabilidad de que ocurra k veces dentro de un intervalo de 10 minutos, usaremos un modelo de distribución de Poisson con $\\lambda$ = 10×4 = 40.\n",
    "\n",
    "Podemos notar que tanto el valor esperado como la varianza de una variable aleatoria con distribución de Poisson son iguales a $\\lambda$. También se tiene que se cumple que $\\displaystyle\\sum_{x=1}^{\\infty} P(X,\\lambda) = 1$. Algunos ejemplos de eventos que siguen una distribución de Poisson son:\n",
    "\n",
    "- El número de llamadas telefónicas en una central telefónica por minuto.\n",
    "- El número de mutaciones de determinada cadena de ADN después de cierta cantidad de radiación.\n",
    "- El número de núcleos atómicos inestables que se han desintegrado en un determinado período.\n",
    "- El número de estrellas en un determinado volumen de espacio.\n",
    "\n",
    "\n",
    "Si tenemos una distribución Binomial $B(n, p)$ donde $n$ sea relativamente grande y $p$ relativamente pequeño, se puede aproximas dicha binomial usando una Poisson con parámetro $\\lambda = np$. No hay un criterio específico para realizar la aproximación pero se suele decir que si $n \\geq 30$, $np \\geq 10$ y $p \\leq 0.05$ la Poisson ya es una buena aproximación de la binomial."
   ]
  },
  {
   "cell_type": "code",
   "execution_count": null,
   "metadata": {},
   "outputs": [],
   "source": []
  },
  {
   "cell_type": "markdown",
   "metadata": {},
   "source": [
    "__Ejemplo__\n",
    "\n",
    "\n",
    "Durante la segunda guerra mundial, Alemania bombardeaba Inglaterra desde Calaes (Francia) utilizando los cohetes V1 y V2, siendo estos el primer misil guiado que se utilizó en la guerra  y el primer misil balístico de combate. Con la finalidad de descubrir si los Nazis podían elegir los objetivos de dichos ataques o estaban atacando a ciegas se dividió el sur de Londres en 576 regiones con la misma extensión de $0.25 km^2$, a lo largo de la contienda impactaron en esas regiones un total de 535 bombas V1 y V2.\n",
    "\n",
    "- Si se selecciona una región al azar, ¿cuál es la probabilidad de que fuese blanco de las bombas en dos ocasiones?\n",
    "- ¿Cuál es la probabilidad de que la región no recibiera ningún impacto?\n",
    "- según lo anterior, cuantas de las 576 regiones se espera que reciban 2 impactos, y cuantas ninguno?\n"
   ]
  },
  {
   "cell_type": "code",
   "execution_count": null,
   "metadata": {},
   "outputs": [],
   "source": []
  },
  {
   "cell_type": "markdown",
   "metadata": {},
   "source": [
    "Según el análisis teórico si los bombardeos, se espera que alrededor de 98 regiones sean bombardeadas 2 veces, y que alrededor de 228 no sean bombardeadas. Los datos reales fueron que 93 regiones fueron bombardeadas 2 veces y 229 no fueron bombardeadas, por lo que se llega a a conclusión de que los alemanes no apuntaban los misiles, estaban atacando al azar.\n"
   ]
  },
  {
   "cell_type": "markdown",
   "metadata": {},
   "source": [
    "[Regresar al contenido](#Contenido)"
   ]
  },
  {
   "cell_type": "markdown",
   "metadata": {},
   "source": [
    "#### Distribución hipergeométrica\n",
    "\n",
    "\n",
    "La distribución hipergeométrica es una distribución discreta relacionada con muestreos aleatorios y sin reemplazo. Suponga que se tiene una población de $N$ elementos de los cuales, $d$ pertenecen a la categoría $A$ y $N-d$ a la $B$. La distribución hipergeométrica mide la probabilidad de obtener $x$ ($ 0\\leq x\\leq d$) elementos de la categoría A en una muestra sin reemplazo de n elementos de la población original.\n",
    "\n",
    "Las características de una distribución hipergeómetrica son:\n",
    "\n",
    "- La población debe tener un número finito de elementos $N$.\n",
    "- se toma una muestra aleatoria de $n$ elementos de la población\n",
    "- Existen $d$ elementos con una característica deseada en la población.\n",
    "- En la muestra $n$ hay $x$ elementos con la caractarística deseada\n",
    "\n",
    "\n",
    "La función de probabilidad de una variable aleatoria con distribución hipergeométrica es igual a:\n",
    "\n",
    "$$P(X=x)=\\frac {\\binom{d}{x}  \\binom{N-d}{n-x}}{N \\choose n}$$\n",
    "\n",
    "Donde $\\displaystyle N$ es el tamaño de población, $n$ es el tamaño de la muestra extraída, $d$ es el número de elementos en la población original que pertenecen a la categoría deseada y $x$ es el número de elementos en la muestra que pertenecen a dicha categoría. La notación $\\displaystyle {a \\choose x}$ al número de combinaciones posibles al seleccionar $x$ elementos de un total $a$.\n",
    "\n",
    "El valor esperado de una variable aleatoria $X$ (media) que sigue una distribución hipergeométrica es:\n",
    "\n",
    "$$\\displaystyle E[X]={\\frac {nd}{N}}$$\n",
    "\n",
    "y su varianza:\n",
    "\n",
    "$$Var[X]=\\bigg (\\frac{N-n}{N-1}\\bigg )\\bigg (\\frac {nd}{N}\\bigg )\\bigg (1-\\frac{d}{N}\\bigg )$$\n",
    "En la fórmula anterior, definiendo\n",
    "\n",
    "$$p=\\frac {d}{N}$$\n",
    "y\n",
    "\n",
    "$$q=1-p$$\n",
    "se obtiene\n",
    "\n",
    "$$Var[X]=npq\\frac{N-n}{N-1}$$\n",
    "$$E[X]= np$$\n",
    "La distribución hipergeométrica es aplicable a muestreos sin reemplazo y la binomial a muestreos con reemplazo. "
   ]
  },
  {
   "cell_type": "markdown",
   "metadata": {},
   "source": [
    "__Ejemplo__\n",
    "\n",
    "Se reparten 5 cartas de una baraja de 52, ¿cuál es la probabilidad de obtener un poker de aces (4 aces) si se sabe que al menos ya salieron 3?\n",
    "\n",
    "Se quiere calcular la probabilidad $P(x = 4 | x \\ge 3)$, por teorema de bayes sabemos que:\n",
    "\n",
    "\n",
    "$$P(x = 4 | x \\ge 3) = \\frac{P(x = 4)P(x \\ge 3 | x = 4)}{P(x \\ge 3)}$$\n",
    "\n",
    "notando que $P(x \\ge 3 | x = 4)$ = 1 el problema se reduce a calcular:\n",
    "$$P(x = 4 | x \\ge 3) = \\frac{P(x = 4)}{P(x \\ge 3)}$$\n",
    "\n",
    "\n",
    "Y $P(x \\ge 3) = P(x = 4) + P(x = 3)$"
   ]
  },
  {
   "cell_type": "code",
   "execution_count": null,
   "metadata": {},
   "outputs": [],
   "source": []
  },
  {
   "cell_type": "markdown",
   "metadata": {},
   "source": [
    "[Regresar al contenido](#Contenido)"
   ]
  },
  {
   "cell_type": "markdown",
   "metadata": {},
   "source": [
    "### Distribuciones continuas notables\n",
    "\n",
    "\n",
    "#### Distribución uniforme\n",
    "\n",
    "Una variable aleatoria $X$ tiene distribución uniforme sobre un intervalo real $(a, b)$, si su función de densidad es:\n",
    "\n",
    "\n",
    "$$f(X) = \\frac{1}{b - a}$$\n",
    "\n",
    "para $x \\in (a, b)$, si $X$ sigue una distribución uniforme lo denotaremos por $X \\sim U(a, b)$. Noten que el valor esperado de esta distribución es $E(x) = \\frac{a + b}{2}$ y su varianza $var(x) = \\frac{(b - a)^2}{12}$ \n",
    "\n",
    "\n",
    "Dentro de Python la función uniform nos permite generar distribuciones uniformes pero utilizando los parámetros _loc_ y _scale_ que seran $loc = a$, y $scale = b - a$"
   ]
  },
  {
   "cell_type": "code",
   "execution_count": null,
   "metadata": {},
   "outputs": [],
   "source": []
  },
  {
   "cell_type": "markdown",
   "metadata": {},
   "source": [
    "[Regresar al contenido](#Contenido)"
   ]
  },
  {
   "cell_type": "markdown",
   "metadata": {},
   "source": [
    "<hr>\n",
    "<h4>Distribución normal</h4>\n",
    "\n",
    "\n",
    "La distribución normal o distribución gaussiana es una de las distribuciones de probabilidad de variable continua que con más frecuencia aparece en estadística y en la teoría de probabilidades. La función distribución de probabilidad está dada por:\n",
    "\n",
    "$$f(x; \\mu, \\sigma) = \\frac{1}{\\sigma \\sqrt{2 \\pi}} e^{\\frac{-1}{2} \\big(\\frac{x - \\mu}{\\sigma}\\big)^2}$$\n",
    "\n",
    "Donde $\\mu$ es la media y $\\sigma$ es la desviación estándar. La distribución de probabilidad _normal estandar_ es aquella que tiene por media $0$ y por desviación estándar $1$. Al ser una distribución de probabilidad el área bajo la curba que resulta de graficar $f$ es igual a $1$ y podemos asociar la integral $\\displaystyle\\int_{-\\infty}^{a} f(x)\\, dx$ con el valor de la probabilidad de que la variable $x$ tome un valor menor o igual a $a$."
   ]
  },
  {
   "cell_type": "markdown",
   "metadata": {},
   "source": [
    "$$e^{-x^2}$$"
   ]
  },
  {
   "cell_type": "code",
   "execution_count": null,
   "metadata": {},
   "outputs": [],
   "source": []
  },
  {
   "cell_type": "markdown",
   "metadata": {},
   "source": [
    "Si $X \\sim N(\\mu, \\sigma)$ entonces $\\frac{X - \\mu}{\\sigma} \\sim N(0, 1)$"
   ]
  },
  {
   "cell_type": "markdown",
   "metadata": {},
   "source": [
    "[Regresar al contenido](#Contenido)"
   ]
  },
  {
   "cell_type": "markdown",
   "metadata": {},
   "source": [
    "## Ley de los grandes Números\n",
    "\n",
    "\n",
    "A medida que aumenta el número de repeticiones de un experimento, el promedio de las medias muestrales se aproxima mejor a la media de la población.\n",
    "\n",
    "$$\\frac{1}{n} \\sum \\bar{x}_i \\to \\mu$$\n",
    "$$\\bar{X_n} \\to \\mu$$\n",
    "\n",
    "- Cualquier muestra (o experimento) es sensible a la variabilidad del muestreo, ruido, etc.\n",
    "\n",
    "    - Esto significa que es poco probable que una muestra o experimento proporcione una buena estimación de la media real de la población.\n",
    "\n",
    "- Pero muestrear muchas veces puede proporcionar una medida precisa de la media real de la población."
   ]
  },
  {
   "cell_type": "code",
   "execution_count": null,
   "metadata": {},
   "outputs": [],
   "source": []
  },
  {
   "cell_type": "markdown",
   "metadata": {},
   "source": [
    "Vamos a simular la ley de los grandes números simulando el lanzamiento de un dado, en este caso particular las variables $X_n$ seguirán una distribución de Bernoulli de parámetro $p = \\frac{1}{6}$ y va a contar cuantas veces obtenemos una cara en la tirada. En este caso cada una de las $X_i$ tendran el mismo valor esperado $E[X_i]= \\frac{1}{6}$, y vamos a suponer que nuestro caso de exito es que el dado salga en 3, entonces $X_i$ sera 1 si el dado cayo 3 en la i-ésima tirada y 0 en otro caso, entonces:\n",
    "\n",
    "$$\\bar{X_n} = \\frac{X_1 + X_2 + \\cdots + X_n}{n} = \\frac{\\text{número de exitos}}{\\text{número de tiradas}}$$\n",
    "\n",
    "Lo mismo sucede para cada cara del dado, y entonces lo que esperamos es que entre más tiradas hagamos:\n",
    "\n",
    "$$\\bar{X_n} \\to \\frac{1}{6}$$"
   ]
  },
  {
   "cell_type": "code",
   "execution_count": null,
   "metadata": {},
   "outputs": [],
   "source": []
  },
  {
   "cell_type": "markdown",
   "metadata": {},
   "source": [
    "[Regresar al contenido](#Contenido)"
   ]
  },
  {
   "cell_type": "markdown",
   "metadata": {},
   "source": [
    "## Teorema central del límite\n",
    "\n",
    "\n",
    "La distribución de las medias muestrales se aproxima a una distribución gaussiana, independientemente de la forma de la distribución de la población.\n",
    "\n",
    "\n",
    "$$Z = \\frac{\\bar{X_n} - \\mu}{\\frac{\\sigma}{\\sqrt{n}}} \\to N(0, 1)$$\n",
    "\n",
    "$$\\bar{X_n} \\sim N(\\mu, \\frac{\\sigma}{\\sqrt{n}})$$\n"
   ]
  },
  {
   "cell_type": "code",
   "execution_count": null,
   "metadata": {},
   "outputs": [],
   "source": []
  },
  {
   "cell_type": "code",
   "execution_count": null,
   "metadata": {},
   "outputs": [],
   "source": []
  },
  {
   "cell_type": "markdown",
   "metadata": {},
   "source": [
    "[Regresar al contenido](#Contenido)"
   ]
  }
 ],
 "metadata": {
  "kernelspec": {
   "display_name": "Python 3 (ipykernel)",
   "language": "python",
   "name": "python3"
  },
  "language_info": {
   "codemirror_mode": {
    "name": "ipython",
    "version": 3
   },
   "file_extension": ".py",
   "mimetype": "text/x-python",
   "name": "python",
   "nbconvert_exporter": "python",
   "pygments_lexer": "ipython3",
   "version": "3.11.5"
  },
  "toc": {
   "base_numbering": 1,
   "nav_menu": {},
   "number_sections": true,
   "sideBar": true,
   "skip_h1_title": false,
   "title_cell": "Table of Contents",
   "title_sidebar": "Contents",
   "toc_cell": false,
   "toc_position": {},
   "toc_section_display": true,
   "toc_window_display": false
  },
  "varInspector": {
   "cols": {
    "lenName": 16,
    "lenType": 16,
    "lenVar": 40
   },
   "kernels_config": {
    "python": {
     "delete_cmd_postfix": "",
     "delete_cmd_prefix": "del ",
     "library": "var_list.py",
     "varRefreshCmd": "print(var_dic_list())"
    },
    "r": {
     "delete_cmd_postfix": ") ",
     "delete_cmd_prefix": "rm(",
     "library": "var_list.r",
     "varRefreshCmd": "cat(var_dic_list()) "
    }
   },
   "types_to_exclude": [
    "module",
    "function",
    "builtin_function_or_method",
    "instance",
    "_Feature"
   ],
   "window_display": false
  }
 },
 "nbformat": 4,
 "nbformat_minor": 2
}
