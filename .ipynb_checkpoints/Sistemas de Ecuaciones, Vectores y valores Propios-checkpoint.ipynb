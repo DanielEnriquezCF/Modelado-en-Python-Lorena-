{
 "cells": [
  {
   "cell_type": "markdown",
   "id": "f8b81a8b",
   "metadata": {},
   "source": [
    "<hr>\n",
    "<h3>Rango de una matriz</h3>\n",
    "\n",
    "\n",
    "El rango de una matriz es el número máximo de columnas (filas respectivamente) que son linealmente independientes. El rango fila y el rango columna siempre son iguales: este número es llamado simplemente rango de A. Comúnmente se expresa como $rg(A)$. En Python nos apoyaremos de la sublibrería <code>linalg</code> de <code>numpy</code> y de la función <code>matrix_rank</code> para poder conocer el rango de una matriz.\n",
    "\n",
    "<h4>Dependencia Lineal</h4>\n",
    "\n",
    "Se dice que un conjunto de  $n$  vectores son linealmente dependientes si existen escalares  $\\alpha_{i}$  no todos cero, tales que:\n",
    "\n",
    "$$\\alpha_1\\vec{x_1} +  \\alpha_2\\vec{x_2} + \\cdots + \\alpha_n\\vec{x_n} = 0$$\n",
    "\n",
    "tomemos por ejemplo los renglones de la matriz $A$:\n",
    "\n",
    "$$A_3 = \n",
    "\\begin{bmatrix}\n",
    "1 & 2 & 3\\\\\n",
    "4 & 5 & 6\\\\\n",
    "7 & 8 & 9\\\\\n",
    "\\end{bmatrix}\n",
    "$$\n",
    "\n",
    "Si tomamos $\\alpha_1 = 1$, $\\alpha_2 = -2$ y $\\alpha_3 = 1$ vemos que se cumple que:\n",
    "\n",
    "$$\n",
    "\\begin{bmatrix}\n",
    "1\\\\\n",
    "2\\\\\n",
    "3\\\\\n",
    "\\end{bmatrix}\n",
    "-\n",
    "2\n",
    "\\begin{bmatrix}\n",
    "4\\\\\n",
    "5\\\\\n",
    "6\\\\\n",
    "\\end{bmatrix}\n",
    "+\n",
    "\\begin{bmatrix}\n",
    "7\\\\\n",
    "8\\\\\n",
    "9\\\\\n",
    "\\end{bmatrix}\n",
    "= 0\n",
    "$$\n",
    " \n",
    "\n",
    "El rango de una matriz nos puede ayudar a saber si un sistema de ecuaciones tiene solución, utilizando el siguiente teorema:\n",
    "\n",
    "- Un sistema de m ecuaciones con n incógnitas $AX = B$ tiene solución si y solo si $rg(A) = rg(A|B) = r$, y en este caso si $r = n$, entonces el sistema tiene una única solución, y si $r < n$ el sistema tiene infinitas soluciones."
   ]
  },
  {
   "cell_type": "markdown",
   "id": "c84ba17d",
   "metadata": {},
   "source": [
    "Para graficar dos vectores independientes en Python, puedes utilizar la biblioteca `matplotlib`."
   ]
  },
  {
   "cell_type": "code",
   "execution_count": 1,
   "id": "5973b9b0",
   "metadata": {},
   "outputs": [
    {
     "data": {
      "image/png": "[encoded data removed]",
      "text/plain": [
       "<Figure size 640x480 with 1 Axes>"
      ]
     },
     "metadata": {},
     "output_type": "display_data"
    }
   ],
   "source": [
    "import matplotlib.pyplot as plt\n",
    "import numpy as np\n",
    "# Definir los vectores\n",
    "vector1 = np.array([2, 3])\n",
    "vector2 = np.array([-1, 4])\n",
    "# Crear la figura y los ejes\n",
    "fig, ax = plt.subplots()\n",
    "# Graficar los vectores desde el origen\n",
    "ax.quiver(0, 0, vector1[0], vector1[1], angles='xy', scale_units='xy', scale=1, color='r', label='Vector 1')\n",
    "ax.quiver(0, 0, vector2[0], vector2[1], angles='xy', scale_units='xy', scale=1, color='b', label='Vector 2')\n",
    "# Configurar los ejes\n",
    "ax.set_xlim([-2, 3])\n",
    "ax.set_ylim([-1, 5])\n",
    "ax.set_aspect('equal')\n",
    "ax.grid(True)\n",
    "# Añadir leyenda\n",
    "ax.legend()\n",
    "# Mostrar la gráfica\n",
    "plt.show()"
   ]
  },
  {
   "cell_type": "markdown",
   "id": "edf41c84",
   "metadata": {},
   "source": [
    "Este código crea una gráfica que muestra dos vectores independientes."
   ]
  },
  {
   "cell_type": "code",
   "execution_count": 6,
   "id": "714572fb",
   "metadata": {},
   "outputs": [],
   "source": [
    "import numpy as np\n",
    "import matplotlib.pyplot as plt  \n",
    "from sympy import Symbol, Eq, solve  # Importar funciones específicas de sympy"
   ]
  },
  {
   "cell_type": "markdown",
   "id": "2e855eed",
   "metadata": {},
   "source": [
    "Puedes utilizar la biblioteca `matplotlib` para graficar una matriz en Python. Para una matriz de 3x3:"
   ]
  },
  {
   "cell_type": "code",
   "execution_count": 4,
   "id": "19e88ba7",
   "metadata": {},
   "outputs": [
    {
     "data": {
      "image/png": "[encoded data removed]",
      "text/plain": [
       "<Figure size 640x480 with 2 Axes>"
      ]
     },
     "metadata": {},
     "output_type": "display_data"
    }
   ],
   "source": [
    "import matplotlib.pyplot as plt\n",
    "import numpy as np\n",
    "# Crear una matriz de ejemplo\n",
    "matriz = np.array([[1, 2, 3],\n",
    "                   [4, 5, 6],\n",
    "                   [7, 8, 9]])\n",
    "# Graficar la matriz\n",
    "plt.imshow(matriz, cmap='viridis', interpolation='none')\n",
    "plt.colorbar()\n",
    "plt.show()"
   ]
  },
  {
   "cell_type": "markdown",
   "id": "acac7638",
   "metadata": {},
   "source": [
    "Este código utiliza `imshow` de `matplotlib` para visualizar la matriz. Puedes ajustar el contenido de la matriz y los parámetros de la gráfica según tus necesidades."
   ]
  },
  {
   "cell_type": "code",
   "execution_count": 8,
   "id": "a8d4a477",
   "metadata": {},
   "outputs": [],
   "source": [
    "import numpy as np\n",
    "from sympy import *\n",
    "import matplotlib.pyplot as plt"
   ]
  },
  {
   "cell_type": "code",
   "execution_count": 11,
   "id": "05d2563b",
   "metadata": {},
   "outputs": [],
   "source": [
    "a = np.array([[1,2,3],[4,5,6],[7,8,9]])"
   ]
  },
  {
   "cell_type": "code",
   "execution_count": 12,
   "id": "4b208ac3",
   "metadata": {},
   "outputs": [
    {
     "data": {
      "text/plain": [
       "array([[1, 2, 3],\n",
       "       [4, 5, 6],\n",
       "       [7, 8, 9]])"
      ]
     },
     "execution_count": 12,
     "metadata": {},
     "output_type": "execute_result"
    }
   ],
   "source": [
    "a"
   ]
  },
  {
   "cell_type": "code",
   "execution_count": null,
   "id": "dc20395d",
   "metadata": {},
   "outputs": [],
   "source": [
    "a= Matrix(a)"
   ]
  },
  {
   "cell_type": "markdown",
   "id": "d984a26b",
   "metadata": {},
   "source": [
    "<h2>Sistemas de ecuaciones</h2>\n",
    "\n",
    "Otra aplicación que le podemos dar a las matrices y a sus determinantes es al resolver sistemas de ecuaciones, los sistemas de ecuaciones los podremos clasificar en 3 tipos según si estos tienen una (determinados), infinitas (indeterminados), o ninguna (incompatibles) tomemos como ejemplo el siguiente sistema:\n",
    "\n",
    "$$\n",
    "\\begin{eqnarray}\n",
    "3x + 2y + z  = 1 \\\\\n",
    "5x + 3y + 4z = 2 \\\\\n",
    "x + y - z = 1\n",
    "\\nonumber\n",
    "\\end{eqnarray}\n",
    "$$\n",
    "\n",
    "\n",
    "Dicho sistema lo podremos expresar de forma matricial de la siguiente forma:\n",
    "\n",
    "$$\n",
    "\\begin{bmatrix}\n",
    "3 & 2 & 1 \\\\\n",
    "5 & 3 & 4 \\\\\n",
    "1 & 1 & -1 \\\\\n",
    "\\end{bmatrix}\n",
    "\\begin{bmatrix}\n",
    "x\\\\\n",
    "y\\\\\n",
    "z\\\\\n",
    "\\end{bmatrix}\n",
    "= \n",
    "\\begin{bmatrix}\n",
    "1\\\\\n",
    "2\\\\\n",
    "1\\\\\n",
    "\\end{bmatrix}\n",
    "$$\n",
    "\n",
    "$$A X = B$$\n",
    "\n",
    "\n",
    "A la matriz $A$ la llamaremos matriz del sistema, y definiremos la matriz aumentada $AB$ como la matriz que tiene las mismas columnas de $A$, más los elementos de $B$ como una columna adicional:\n",
    "\n",
    "$$\n",
    "AB =\n",
    "\\begin{bmatrix}\n",
    "3 & 2 & 1 & 1\\\\\n",
    "5 & 3 & 4 & 2 \\\\\n",
    "1 & 1 & -1 & 1 \\\\\n",
    "\\end{bmatrix}\n",
    "$$\n",
    "\n",
    "recordemos que podemos saber si un sistema tiene solución usando el siguiente teorema:\n",
    "\n",
    "- Un sistema de m ecuaciones con n incógnitas $AX = B$ tiene solución si y solo si $rg(A) = rg(A|B) = r$, y en este caso si $r = n$, entonces el sistema tiene una única solución, y si $r < n$ el sistema tiene infinitas soluciones.\n",
    "\n",
    "\n",
    "\n",
    "\n",
    "\n",
    "\n"
   ]
  },
  {
   "cell_type": "markdown",
   "id": "ce643094",
   "metadata": {},
   "source": [
    "La matriz aumentada de una matriz \\( A \\) con una matriz \\( B \\) añadiendo una columna se representa generalmente como \\( [A | B] \\). Para lograr esto en Python usando la biblioteca NumPy, puedes utilizar la función `numpy.concatenate`. Aquí tienes un ejemplo:"
   ]
  },
  {
   "cell_type": "code",
   "execution_count": 13,
   "id": "6ff5eb26",
   "metadata": {},
   "outputs": [
    {
     "name": "stdout",
     "output_type": "stream",
     "text": [
      "[[1 2 5]\n",
      " [3 4 6]]\n"
     ]
    }
   ],
   "source": [
    "import numpy as np\n",
    "# Supongamos que tienes dos matrices A y B\n",
    "A = np.array([[1, 2],\n",
    "              [3, 4]])\n",
    "B = np.array([[5],\n",
    "              [6]])\n",
    "# Crear la matriz aumentada [A | B]\n",
    "matriz_aumentada = np.concatenate((A, B), axis=1)\n",
    "print(matriz_aumentada)"
   ]
  },
  {
   "cell_type": "markdown",
   "id": "dcbb3970",
   "metadata": {},
   "source": [
    "Este código crea las matrices \\( A \\) y \\( B \\), y luego concatena \\( B \\) como una columna adicional a \\( A \\) para formar la matriz aumentada."
   ]
  },
  {
   "cell_type": "markdown",
   "id": "53d30f76",
   "metadata": {},
   "source": [
    "Si prefieres usar la función `numpy.hstack` (horizontal stack) en lugar de `numpy.concatenate`, aquí tienes un ejemplo ajustado:\n"
   ]
  },
  {
   "cell_type": "code",
   "execution_count": 14,
   "id": "5253a7a6",
   "metadata": {},
   "outputs": [
    {
     "name": "stdout",
     "output_type": "stream",
     "text": [
      "[[1 2 5]\n",
      " [3 4 6]]\n"
     ]
    }
   ],
   "source": [
    "import numpy as np\n",
    "# Supongamos que tienes dos matrices A y B\n",
    "A = np.array([[1, 2],\n",
    "              [3, 4]])\n",
    "B = np.array([[5],\n",
    "              [6]])\n",
    "# Crear la matriz aumentada [A | B] usando hstack\n",
    "matriz_aumentada = np.hstack((A, B))\n",
    "print(matriz_aumentada)"
   ]
  },
  {
   "cell_type": "markdown",
   "id": "312662f8",
   "metadata": {},
   "source": [
    "Este código realiza la misma operación que el ejemplo anterior, pero utiliza `np.hstack` para realizar la concatenación horizontal. Ambas funciones, `concatenate` y `hstack`, son opciones válidas, y puedes elegir la que te resulte más clara o conveniente."
   ]
  },
  {
   "cell_type": "markdown",
   "id": "d65de2fd",
   "metadata": {},
   "source": [
    "Si deseas utilizar `numpy.column_stack` para apilar matrices horizontalmente, aquí está el código correspondiente:\n"
   ]
  },
  {
   "cell_type": "code",
   "execution_count": 15,
   "id": "3d0cd6d6",
   "metadata": {},
   "outputs": [
    {
     "name": "stdout",
     "output_type": "stream",
     "text": [
      "[[1 2 5]\n",
      " [3 4 6]]\n"
     ]
    }
   ],
   "source": [
    "import numpy as np\n",
    "# Supongamos que tienes dos matrices A y B\n",
    "A = np.array([[1, 2],\n",
    "              [3, 4]])\n",
    "B = np.array([[5],\n",
    "              [6]])\n",
    "# Crear la matriz aumentada [A | B] usando column_stack\n",
    "matriz_aumentada = np.column_stack((A, B))\n",
    "print(matriz_aumentada)"
   ]
  },
  {
   "cell_type": "markdown",
   "id": "aa710de5",
   "metadata": {},
   "source": [
    "La función `numpy.column_stack` realiza la misma operación que `numpy.hstack` al apilar matrices horizontalmente. En este caso, se utiliza para formar la matriz aumentada [A | B]. Puedes seleccionar la función que te parezca más clara o cómoda para tu código."
   ]
  },
  {
   "cell_type": "markdown",
   "id": "d214d853",
   "metadata": {},
   "source": [
    "Este código crea las matrices \\( A \\) y \\( B \\), y luego concatena \\( B \\) como una columna adicional a \\( A \\) para formar la matriz aumentada. "
   ]
  },
  {
   "cell_type": "markdown",
   "id": "446d1290",
   "metadata": {},
   "source": [
    "La matriz cuadrada de la expresión anterior se conoce como la matriz asociada al sistema, si el determinante de dicha matriz es distinto de 0, podemos garantizar que existe $A^{-1}$ y podemos escribir:\n",
    "\n",
    "$$ A^{-1} A X = A^{-1} B $$\n",
    "$$ I_n X = A^{-1} B$$\n",
    "$$ X = A^{-1} B $$\n",
    "\n",
    "Al realizar el producto $A^{-1} B$ obtendremos la solución al sistema\n",
    "\n",
    "En Numpy dentro de la subpaquetería _linalg_ tenemos la función _solve_ que nos ayuda a resolver sistemas de ecuaciones\n"
   ]
  },
  {
   "cell_type": "markdown",
   "id": "8d67f142",
   "metadata": {},
   "source": [
    "Para consultar el número de columnas en una matriz en Python, puedes usar el atributo `shape` de NumPy. Aquí tienes un ejemplo:\n"
   ]
  },
  {
   "cell_type": "code",
   "execution_count": 16,
   "id": "6d908c06",
   "metadata": {},
   "outputs": [
    {
     "name": "stdout",
     "output_type": "stream",
     "text": [
      "Número de columnas: 3\n"
     ]
    }
   ],
   "source": [
    "import numpy as np\n",
    "# Supongamos que tienes una matriz A\n",
    "A = np.array([[1, 2, 3],\n",
    "              [4, 5, 6],\n",
    "              [7, 8, 9]])\n",
    "# Consultar el número de columnas\n",
    "num_columnas = A.shape[1]\n",
    "print(f'Número de columnas: {num_columnas}')"
   ]
  },
  {
   "cell_type": "markdown",
   "id": "c1d222f2",
   "metadata": {},
   "source": [
    "En este ejemplo, `A.shape` devuelve una tupla que contiene el número de filas y el número de columnas de la matriz `A`. Utilizando la indexación `[1]`, obtenemos el número de columnas. Ten en cuenta que la indexación en Python comienza desde cero, por lo que `[1]` corresponde a la segunda posición de la tupla, que es el número de columnas.\n"
   ]
  },
  {
   "cell_type": "markdown",
   "id": "10df0350",
   "metadata": {},
   "source": [
    "En Python, la distinción entre mutable e inmutable se refiere a si un objeto puede ser modificado después de su creación.\n",
    "\n",
    "**Inmutable**: Los objetos inmutables no pueden ser modificados una vez que se han creado. Ejemplos comunes son las tuplas y las cadenas de texto."
   ]
  },
  {
   "cell_type": "code",
   "execution_count": null,
   "id": "5ad81b29",
   "metadata": {},
   "outputs": [],
   "source": [
    " cadena = \"Hola\"\n",
    "  tupla = (1, 2, 3)"
   ]
  },
  {
   "cell_type": "markdown",
   "id": "53015478",
   "metadata": {},
   "source": [
    "En estos casos, cualquier intento de modificar el valor resultará en la creación de un nuevo objeto."
   ]
  },
  {
   "cell_type": "markdown",
   "id": "24ceafc5",
   "metadata": {},
   "source": [
    "Mutable**: Los objetos mutables pueden ser modificados después de su creación. Ejemplos incluyen listas y diccionarios."
   ]
  },
  {
   "cell_type": "code",
   "execution_count": null,
   "id": "967c4eff",
   "metadata": {},
   "outputs": [],
   "source": [
    "python\n",
    "  lista = [1, 2, 3]\n",
    "  diccionario = {'clave': 'valor'}"
   ]
  },
  {
   "cell_type": "markdown",
   "id": "9570b3eb",
   "metadata": {},
   "source": [
    "Puedes modificar estos objetos directamente, como agregar elementos a una lista o cambiar valores en un diccionario."
   ]
  },
  {
   "cell_type": "code",
   "execution_count": null,
   "id": "fcd63b9e",
   "metadata": {},
   "outputs": [],
   "source": [
    "  lista.append(4)\n",
    "  diccionario['nueva_clave'] = 'nuevo_valor'"
   ]
  },
  {
   "cell_type": "markdown",
   "id": "e7dcb4be",
   "metadata": {},
   "source": [
    "En resumen, la inmutabilidad implica que el objeto no puede ser cambiado después de su creación, mientras que la mutabilidad permite modificaciones directas en el objeto."
   ]
  },
  {
   "cell_type": "markdown",
   "id": "c318184d",
   "metadata": {},
   "source": [
    "<h3>Ejercicios</h3>\n",
    "\n",
    "- En el aula de Alberto hay un total de $27$ alumnos, habiendo el doble de chicas que de chicos. ¿Cuántos chicos y chicas hay en la clase de Alberto?"
   ]
  },
  {
   "cell_type": "markdown",
   "id": "63ad7dd0",
   "metadata": {},
   "source": [
    "Podemos abordar este problema planteando un sistema de ecuaciones. Sea \\( c \\) el número de chicos y \\( g \\) el número de chicas, podemos establecer las siguientes ecuaciones:|"
   ]
  },
  {
   "cell_type": "code",
   "execution_count": 17,
   "id": "a9bb1e88",
   "metadata": {},
   "outputs": [
    {
     "name": "stdout",
     "output_type": "stream",
     "text": [
      "Chicos: 9, Chicas: 18\n"
     ]
    }
   ],
   "source": [
    "from sympy import symbols, Eq, solve\n",
    "# Definir variables\n",
    "c, g = symbols('c g')\n",
    "# Establecer ecuaciones\n",
    "ecuacion1 = Eq(c + g, 27)\n",
    "ecuacion2 = Eq(g, 2 * c)\n",
    "# Resolver el sistema de ecuaciones\n",
    "solucion = solve((ecuacion1, ecuacion2), (c, g))\n",
    "# Mostrar la solución\n",
    "num_chicos = solucion[c]\n",
    "num_chicas = solucion[g]\n",
    "print(f\"Chicos: {num_chicos}, Chicas: {num_chicas}\")"
   ]
  },
  {
   "cell_type": "markdown",
   "id": "7f1cacf1",
   "metadata": {},
   "source": [
    "Este código utilizará la biblioteca `sympy` para resolver el sistema de ecuaciones. La solución mostrará el número de chicos y chicas en la clase de Alberto."
   ]
  },
  {
   "cell_type": "markdown",
   "id": "38a62eeb",
   "metadata": {},
   "source": [
    "Podemos abordar este problema utilizando matrices. Definiremos una matriz de coeficientes y un vector columna que representan el sistema de ecuaciones lineales. La solución del sistema se puede obtener resolviendo la ecuación matricial \\(Ax = B\\), donde \\(A\\) es la matriz de coeficientes, \\(x\\) es el vector columna de incógnitas, y \\(B\\) es el vector columna de resultados."
   ]
  },
  {
   "cell_type": "code",
   "execution_count": 35,
   "id": "774798e7",
   "metadata": {},
   "outputs": [
    {
     "name": "stdout",
     "output_type": "stream",
     "text": [
      "Chicos: 18.0, Chicas: 9.0\n"
     ]
    }
   ],
   "source": [
    "import numpy as np\n",
    "# Se define la matriz de coeficientes A y el vector de resultados B\n",
    "A = np.array([[1, 1], [1, -2]])\n",
    "B = np.array([27, 0])\n",
    "# Sistema de ecuaciones lineales Ax = B\n",
    "solucion = np.linalg.solve(A, B)\n",
    "# Mostrar la solución\n",
    "num_chicos = solucion[0]\n",
    "num_chicas = solucion[1]\n",
    "print(f\"Chicos: {num_chicos}, Chicas: {num_chicas}\")"
   ]
  },
  {
   "cell_type": "markdown",
   "id": "8f80e45c",
   "metadata": {},
   "source": [
    "Este código utilizará NumPy para resolver el sistema de ecuaciones lineales y mostrará el número de chicos y chicas en la clase de Alberto."
   ]
  },
  {
   "cell_type": "markdown",
   "id": "7917a6d9",
   "metadata": {},
   "source": [
    "- Luis invirtió una parte de los $\\$8000$ de sus ahorros en un plan con un $3\\%$ de rentabilidad anual y la otra parte la invierte en un plan con un $5\\%$ de rentabilidad anual.\n",
    "\n",
    "¿Cuánto dinero invirtió Luis en cada plan si después de un año tiene $\\$8340$?"
   ]
  },
  {
   "cell_type": "code",
   "execution_count": 18,
   "id": "c7f3c5c1",
   "metadata": {
    "scrolled": true
   },
   "outputs": [
    {
     "name": "stdout",
     "output_type": "stream",
     "text": [
      "Luis invirtió $-397000.000000000 al 3% y $405000.000000000 al 5%.\n"
     ]
    }
   ],
   "source": [
    "from sympy import symbols, Eq, solve\n",
    "# Definir variable\n",
    "x = symbols('x')\n",
    "# Establecer ecuación\n",
    "ecuacion = Eq(0.03 * x + 0.05 * (8000 - x), 8340)\n",
    "# Resolver la ecuación\n",
    "solucion = solve(ecuacion, x)\n",
    "# Mostrar la solución\n",
    "cantidad_invertida_3_por_ciento = solucion[0]\n",
    "cantidad_invertida_5_por_ciento = 8000 - cantidad_invertida_3_por_ciento\n",
    "print(f\"Luis invirtió ${cantidad_invertida_3_por_ciento} al 3% y ${cantidad_invertida_5_por_ciento} al 5%.\")"
   ]
  },
  {
   "cell_type": "markdown",
   "id": "176fb277",
   "metadata": {},
   "source": [
    "Este código utilizará la biblioteca `sympy` para resolver la ecuación y mostrará cuánto invirtió Luis en cada plan."
   ]
  },
  {
   "cell_type": "markdown",
   "id": "07a6d1e1",
   "metadata": {},
   "source": [
    "Podemos representar el problema de Luis utilizando matrices para resolver el sistema de ecuaciones. Sea \\(x\\) la cantidad invertida en el plan con un 3% de rentabilidad y \\(y\\) la cantidad invertida en el plan con un 5% de rentabilidad, podemos plantear las siguientes ecuaciones:\n"
   ]
  },
  {
   "cell_type": "code",
   "execution_count": 27,
   "id": "1db936a3",
   "metadata": {},
   "outputs": [
    {
     "name": "stdout",
     "output_type": "stream",
     "text": [
      "Luis invirtió $3000.00 al 3% y $5000.00 al 5%.\n"
     ]
    }
   ],
   "source": [
    "import numpy as np\n",
    "# Definir la matriz de coeficientes A y el vector de resultados B\n",
    "A = np.array([[1.03, 1.05], [1, 1]])\n",
    "B = np.array([8340, 8000])\n",
    "# Resolver el sistema de ecuaciones lineales Ax = B\n",
    "solucion = np.linalg.solve(A, B)\n",
    "# Mostrar la solución\n",
    "cantidad_en_plan_3_por_ciento = solucion[0]\n",
    "cantidad_en_plan_5_por_ciento = solucion[1]\n",
    "print(f\"Luis invirtió ${cantidad_en_plan_3_por_ciento:.2f} al 3% y ${cantidad_en_plan_5_por_ciento:.2f} al 5%.\")"
   ]
  },
  {
   "cell_type": "code",
   "execution_count": 26,
   "id": "eba58584",
   "metadata": {},
   "outputs": [
    {
     "data": {
      "text/plain": [
       "array([[0.03, 0.05],\n",
       "       [1.  , 1.  ]])"
      ]
     },
     "execution_count": 26,
     "metadata": {},
     "output_type": "execute_result"
    }
   ],
   "source": [
    "A"
   ]
  },
  {
   "cell_type": "markdown",
   "id": "f8c65464",
   "metadata": {},
   "source": [
    "- Un cliente de un supermercado ha pagado un total de $\\$156$ por $24l$ de leche, $6kg$ de jamón serrano y $12l$ de aceite de oliva. Calcular el precio de cada artículo, sabiendo que $1l$ de aceite cuesta el triple que $1l$ de leche\n",
    "y que $1kg$ de jamón cuesta igual que $4l$ de aceite más $4l$ de leche."
   ]
  },
  {
   "cell_type": "markdown",
   "id": "286943c6",
   "metadata": {},
   "source": [
    "Podemos abordar este problema planteando un sistema de ecuaciones para representar el costo de cada artículo. Sea \\( l \\) el precio de 1 litro de leche, \\( j \\) el precio de 1 kilogramo de jamón serrano, y \\( a \\) el precio de 1 litro de aceite de oliva. Podemos establecer las siguientes ecuaciones:"
   ]
  },
  {
   "cell_type": "code",
   "execution_count": 19,
   "id": "447f779f",
   "metadata": {},
   "outputs": [
    {
     "name": "stdout",
     "output_type": "stream",
     "text": [
      "El precio de 1 litro de leche es $1.00\n",
      "El precio de 1 kg de jamón serrano es $16.00\n",
      "El precio de 1 litro de aceite de oliva es $3.00\n"
     ]
    }
   ],
   "source": [
    "from sympy import symbols, Eq, solve\n",
    "# Definir variables\n",
    "l, j, a = symbols('l j a')\n",
    "# Establecer ecuaciones\n",
    "ecuacion1 = Eq(24*l + 6*j + 12*a, 156)\n",
    "ecuacion2 = Eq(a, 3*l)\n",
    "ecuacion3 = Eq(j, 4*a + 4*l)\n",
    "# Resolver el sistema de ecuaciones\n",
    "solucion = solve((ecuacion1, ecuacion2, ecuacion3), (l, j, a))\n",
    "# Mostrar la solución\n",
    "precio_leche = solucion[l]\n",
    "precio_jamon = solucion[j]\n",
    "precio_aceite = solucion[a]\n",
    "print(f\"El precio de 1 litro de leche es ${precio_leche:.2f}\")\n",
    "print(f\"El precio de 1 kg de jamón serrano es ${precio_jamon:.2f}\")\n",
    "print(f\"El precio de 1 litro de aceite de oliva es ${precio_aceite:.2f}\")"
   ]
  },
  {
   "cell_type": "code",
   "execution_count": 28,
   "id": "389a32de",
   "metadata": {},
   "outputs": [
    {
     "name": "stdout",
     "output_type": "stream",
     "text": [
      "El precio de 1 litro de leche es $1.00\n",
      "El precio de 1 kg de jamón serrano es $16.00\n",
      "El precio de 1 litro de aceite de oliva es $3.00\n"
     ]
    }
   ],
   "source": [
    "import numpy as np\n",
    "# Definir la matriz de coeficientes A y el vector de resultados B\n",
    "A = np.array([[24, 6, 12], [3, 0, -1], [4, -1, 4]])\n",
    "B = np.array([156, 0, 0])\n",
    "# Resolver el sistema de ecuaciones lineales Ax = B\n",
    "solucion = np.linalg.solve(A, B)\n",
    "# Mostrar la solución\n",
    "precio_leche = solucion[0]\n",
    "precio_jamon = solucion[1]\n",
    "precio_aceite = solucion[2]\n",
    "print(f\"El precio de 1 litro de leche es ${precio_leche:.2f}\")\n",
    "print(f\"El precio de 1 kg de jamón serrano es ${precio_jamon:.2f}\")\n",
    "print(f\"El precio de 1 litro de aceite de oliva es ${precio_aceite:.2f}\")"
   ]
  },
  {
   "cell_type": "markdown",
   "id": "2e8b4009",
   "metadata": {},
   "source": [
    "$$\\vec{x}$$"
   ]
  },
  {
   "cell_type": "markdown",
   "id": "12d0d50c",
   "metadata": {},
   "source": [
    "$$ SV[\\vec{x}] = \\{ \\vec{v} | \\vec{v} = a \\vec{x} \\text{ para algún  } a \\in \\mathbb{R} \\} \\subset \\mathbb{R}^2 $$"
   ]
  },
  {
   "cell_type": "markdown",
   "id": "1523885e",
   "metadata": {},
   "source": [
    "<hr>\n",
    "<h2>Vectores y valores propios</h2>\n",
    "\n",
    "Los definiremos lo valores propios y vectores propios de una matriz cuadrada de la siguiente forma:\n",
    "\n",
    "$$ T \\vec{x} = \\lambda \\vec{x} $$\n",
    "\n",
    "Estos vectores son los llamados _vectores propios_ de $T$ y el valor $\\lambda$ que representa el factor de escalamiento del vector es llamado _valor propio_ de $T$. Podemos calcular los valores propios de una matriz cuadrada $T_n$ calculando primero el determinante de $T - \\lambda I$, que dara como resultado un polinomio de grado $n$, y luego encontrando las raíces de dicho polinomio.\n",
    "\n",
    "\n",
    "\n",
    "Empezaremos dando un sentido geométrico a los valores propios de una matriz cuadrada, pensemos por ejemplo en la matriz:\n",
    "\n",
    "$$\n",
    "T = \n",
    "\\begin{bmatrix}\n",
    "3 & 1\\\\\n",
    "0 & 2\\\\\n",
    "\\end{bmatrix}\n",
    "$$\n",
    "\n",
    "Y veamos la como una transformación lineal\n",
    "\n",
    "<img src=\"Transformación base canonica.gif\" width = 400 height = 400>\n",
    "\n",
    "Al fijarnos en u vector cualquiera vamos a fijarnos en su subespacio generado, es decir, en la recta que pasa sobre el:\n",
    "\n",
    "<img src=\"Transformación sobre subespacio generado.gif\" width = 400 height = 400>\n",
    "\n",
    "Podemos ver que la transformación saca al vector de su subespacio. Sin embargo hay algunos vectores a los que esto no les pasa.\n",
    "\n",
    "<img src=\"Transformación sobre un subespacio de un vector propio.gif\" width = 400 height = 400>\n",
    "\n",
    "Podemos ver que en el caso de esta matriz hay dos rectas sobre las cuales los vectores no son desviados, solo son escalados un factor $\\lambda$. \n",
    "\n",
    "<img src=\"Transformación sobre un subespacio de un vector propio 2.gif\" width = 400 height = 400>\n",
    "\n",
    "\n",
    "Es decir, aplicar la matriz $T$ a uno de estos vectores da como resultado un multiplo escalar del mismo vector:\n",
    "\n",
    "\n",
    "\n",
    "\n",
    "En Numpy dentro de _linalg_ tenemos las funciones _eig_ y _eigvals_ que nos ofrecen, devuelven una tupla con los valores propios, y otra de vectores propios para la primera, y un array de valores propios la segunda.\n"
   ]
  },
  {
   "cell_type": "markdown",
   "id": "19502d8d",
   "metadata": {},
   "source": [
    "Para visualizar gráficamente vectores con valores propios, podemos utilizar la biblioteca `matplotlib` en Python. A continuación, te doy un ejemplo básico que genera una gráfica con dos vectores propios:"
   ]
  },
  {
   "cell_type": "code",
   "execution_count": 37,
   "id": "295d9344",
   "metadata": {},
   "outputs": [
    {
     "data": {
      "image/png": "[encoded data removed]",
      "text/plain": [
       "<Figure size 640x480 with 1 Axes>"
      ]
     },
     "metadata": {},
     "output_type": "display_data"
    }
   ],
   "source": [
    "import numpy as np\n",
    "import matplotlib.pyplot as plt\n",
    "# Definir la matriz y calcular sus valores y vectores propios\n",
    "A = np.array([[2, 1], [1, 3]])\n",
    "valores_propios, vectores_propios = np.linalg.eig(A)\n",
    "# Crear un gráfico\n",
    "fig, ax = plt.subplots()\n",
    "# Dibujar los vectores propios\n",
    "for i in range(len(valores_propios)):\n",
    "    vector = vectores_propios[:, i]\n",
    "    valor_propio = valores_propios[i]\n",
    "    ax.quiver(0, 0, vector[0], vector[1], angles='xy', scale_units='xy', scale=1, label=f'Eigenvalue {valor_propio:.2f}')\n",
    "# Establecer límites del gráfico\n",
    "ax.set_xlim([-1, 1])\n",
    "ax.set_ylim([-1, 1])\n",
    "# Añadir etiquetas y leyenda\n",
    "ax.set_xlabel('X')\n",
    "ax.set_ylabel('Y')\n",
    "ax.legend()\n",
    "# Mostrar el gráfico\n",
    "plt.title('Vectores con Valores Propios')\n",
    "plt.grid(True)\n",
    "plt.axhline(0, color='black',linewidth=0.5)\n",
    "plt.axvline(0, color='black',linewidth=0.5)\n",
    "plt.show()"
   ]
  },
  {
   "cell_type": "markdown",
   "id": "23e047d5",
   "metadata": {},
   "source": [
    "Este código utiliza `numpy` para calcular los valores y vectores propios de una matriz 2x2 y `matplotlib` para crear un gráfico con los vectores propios. Puedes personalizar y adaptar este código según tus necesidades específicas. Asegúrate de tener instaladas las bibliotecas `numpy` y `matplotlib` en tu entorno de Python."
   ]
  },
  {
   "cell_type": "code",
   "execution_count": 42,
   "id": "0a122d61",
   "metadata": {},
   "outputs": [
    {
     "data": {
      "image/png": "[encoded data removed]",
      "text/plain": [
       "<Figure size 640x480 with 1 Axes>"
      ]
     },
     "metadata": {},
     "output_type": "display_data"
    }
   ],
   "source": [
    "import numpy as np\n",
    "import matplotlib.pyplot as plt\n",
    "# Vectores para la cruz\n",
    "vector_horizontal = np.array([1, 0])\n",
    "vector_vertical = np.array([0, 1])\n",
    "# Vector para la línea diagonal azul\n",
    "vector_diagonal = np.array([1, 1])\n",
    "# Crear un gráfico\n",
    "fig, ax = plt.subplots()\n",
    "# Dibujar la cruz\n",
    "ax.quiver(0, 0, vector_horizontal[0], vector_horizontal[1], angles='xy', scale_units='xy', scale=1, color='red', label='Vector Horizontal')\n",
    "ax.quiver(0, 0, vector_vertical[0], vector_vertical[1], angles='xy', scale_units='xy', scale=1, color='green', label='Vector Vertical')\n",
    "# Dibujar la línea diagonal azul\n",
    "ax.quiver(0, 0, vector_diagonal[0], vector_diagonal[1], angles='xy', scale_units='xy', scale=1, color='blue', label='Vector Diagonal Azul', width=0.02)\n",
    "# Establecer límites del gráfico\n",
    "ax.set_xlim([-1, 2])\n",
    "ax.set_ylim([-1, 2])\n",
    "# Añadir etiquetas y leyenda\n",
    "ax.set_xlabel('X')\n",
    "ax.set_ylabel('Y')\n",
    "ax.legend()\n",
    "# Mostrar el gráfico\n",
    "plt.title('Vectores: Cruz y Línea Diagonal Azul')\n",
    "plt.grid(True)\n",
    "plt.axhline(0, color='black', linewidth=0.5)\n",
    "plt.axvline(0, color='black', linewidth=0.5)\n",
    "plt.show()"
   ]
  },
  {
   "cell_type": "code",
   "execution_count": 44,
   "id": "22c14082",
   "metadata": {},
   "outputs": [
    {
     "ename": "SyntaxError",
     "evalue": "invalid syntax (3434358859.py, line 1)",
     "output_type": "error",
     "traceback": [
      "\u001b[1;36m  Cell \u001b[1;32mIn[44], line 1\u001b[1;36m\u001b[0m\n\u001b[1;33m    $$ T (\\alpha \\cdot \\vec{x}) = \\lambda (\\alpha \\cdot \\vec{x})$$\u001b[0m\n\u001b[1;37m    ^\u001b[0m\n\u001b[1;31mSyntaxError\u001b[0m\u001b[1;31m:\u001b[0m invalid syntax\n"
     ]
    }
   ],
   "source": [
    "$$ T (\\alpha \\cdot \\vec{x}) = \\lambda (\\alpha \\cdot \\vec{x})$$"
   ]
  },
  {
   "cell_type": "markdown",
   "id": "8c054953",
   "metadata": {},
   "source": [
    "En álgebra lineal, la base de un espacio vectorial es un conjunto de vectores linealmente independientes que pueden combinarse de manera única para formar cualquier vector en ese espacio. Esencialmente, son los \"bloques de construcción\" que permiten expresar cualquier vector de manera única mediante combinaciones lineales.\n",
    "\n",
    "En el contexto de las bases de un espacio vectorial, algunos conceptos adicionales incluyen:\n",
    "**Dimensión:** La dimensión de un espacio vectorial es el número de vectores en su base. Todos los conjuntos de bases de un espacio vectorial tienen el mismo número de elementos, y este número define la dimensión.\n",
    "**Espacio Vectorial:** Es un conjunto de vectores que satisface ciertas propiedades algebraicas, como cerradura bajo la suma y la multiplicación por escalares.\n",
    "**Vectores Linealmente Independientes:** Un conjunto de vectores es linealmente independiente si ninguna combinación lineal de ellos puede igualar al vector cero de manera no trivial. Si un conjunto de vectores es linealmente independiente y genera el espacio vectorial, es una base.\n",
    "**Vectores Generadores:** Un conjunto de vectores es un generador si su combinación lineal puede formar todo el espacio vectorial.\n",
    "**Subespacio:** Un subconjunto de un espacio vectorial que, por sí mismo, es también un espacio vectorial. Un subespacio debe contener al vector cero y ser cerrado bajo la suma y la multiplicación por escalares.\n",
    "Estos conceptos son fundamentales para entender la estructura y las propiedades de los espacios vectoriales en álgebra lineal."
   ]
  },
  {
   "cell_type": "markdown",
   "id": "b921ad9b",
   "metadata": {},
   "source": [
    "Un resultado importante es que si $A_n$ tiene $n$ valores propios diferentes, entonces los vectores propios asociados a dichos valores son linealmente independientes, y podemos usarlos como una nueva base del espacio vectorial, que tiene la peculiaridad de que si vemos la matriz $A_n$ escrita en esa base, se convierte en una [matriz diagonal](#Glosario) que tiene en la diagonal los valores propios:\n",
    "\n",
    "$$\n",
    "D = \n",
    "\\begin{bmatrix}\n",
    "\\lambda_1 & 0 & \\cdots & 0\\\\\n",
    "0 & \\lambda_2 & \\cdots & 0\\\\\n",
    "\\cdots & \\cdots & \\ddots & \\cdots \\\\\n",
    "0 & 0 & \\cdots & \\lambda_n\\\\\n",
    "\\end{bmatrix}\n",
    "$$\n",
    "\n",
    "\n",
    "Y esta matriz la podemos expresar como:\n",
    "\n",
    "$$D = M^{-1}AM$$\n",
    "\n",
    "\n",
    "Donde M es la matriz que tiene por columnas los vectores propios de A"
   ]
  },
  {
   "cell_type": "code",
   "execution_count": 1,
   "id": "acb38c01",
   "metadata": {},
   "outputs": [
    {
     "data": {
      "image/png": "[encoded data removed]",
      "text/plain": [
       "<Figure size 640x480 with 1 Axes>"
      ]
     },
     "metadata": {},
     "output_type": "display_data"
    }
   ],
   "source": [
    "import numpy as np\n",
    "import matplotlib.pyplot as plt\n",
    "# Definir los vectores linealmente independientes\n",
    "v1 = np.array([1, 2])\n",
    "v2 = np.array([-1, 3])\n",
    "# Crear la figura\n",
    "fig, ax = plt.subplots()\n",
    "# Graficar los vectores\n",
    "ax.quiver(0, 0, v1[0], v1[1], angles='xy', scale_units='xy', scale=1, color='r', label='v1')\n",
    "ax.quiver(0, 0, v2[0], v2[1], angles='xy', scale_units='xy', scale=1, color='b', label='v2')\n",
    "# Ajustar los límites del gráfico\n",
    "ax.set_xlim([-2, 2])\n",
    "ax.set_ylim([-1, 4])\n",
    "# Etiquetas y leyenda\n",
    "ax.set_xlabel('Eje X')\n",
    "ax.set_ylabel('Eje Y')\n",
    "ax.legend()\n",
    "# Mostrar la gráfica\n",
    "plt.grid()\n",
    "plt.axhline(0, color='black',linewidth=0.5)\n",
    "plt.axvline(0, color='black',linewidth=0.5)\n",
    "plt.show()"
   ]
  },
  {
   "cell_type": "markdown",
   "id": "7bb9e778",
   "metadata": {},
   "source": [
    "Este código crea una gráfica con dos vectores 2D, `v1` y `v2`. Puedes ajustar los valores de estos vectores según tus necesidades. La función `quiver` de Matplotlib se utiliza para representar vectores en el plano."
   ]
  },
  {
   "cell_type": "code",
   "execution_count": 3,
   "id": "9f737bd5",
   "metadata": {},
   "outputs": [],
   "source": [
    "A = np.random.randint(1,10,(4,4))"
   ]
  },
  {
   "cell_type": "code",
   "execution_count": 4,
   "id": "ddad33c5",
   "metadata": {},
   "outputs": [
    {
     "data": {
      "text/plain": [
       "array([[5, 6, 6, 6],\n",
       "       [4, 4, 9, 3],\n",
       "       [7, 6, 3, 5],\n",
       "       [8, 4, 8, 4]])"
      ]
     },
     "execution_count": 4,
     "metadata": {},
     "output_type": "execute_result"
    }
   ],
   "source": [
    "A"
   ]
  },
  {
   "cell_type": "code",
   "execution_count": 5,
   "id": "480a06c3",
   "metadata": {},
   "outputs": [],
   "source": [
    "vals, vecs = np.linalg.eig(A)"
   ]
  },
  {
   "cell_type": "code",
   "execution_count": 6,
   "id": "c5d65c99",
   "metadata": {},
   "outputs": [
    {
     "data": {
      "text/plain": [
       "array([[ 0.52161615+0.j        , -0.15905711+0.j        ,\n",
       "        -0.54541307-0.02303638j, -0.54541307+0.02303638j],\n",
       "       [ 0.44782912+0.j        ,  0.72546323+0.j        ,\n",
       "         0.35366638-0.07890828j,  0.35366638+0.07890828j],\n",
       "       [ 0.47880773+0.j        ,  0.04916008+0.j        ,\n",
       "        -0.28021689+0.08639841j, -0.28021689-0.08639841j],\n",
       "       [ 0.54599343+0.j        , -0.66782275+0.j        ,\n",
       "         0.69620492+0.j        ,  0.69620492-0.j        ]])"
      ]
     },
     "execution_count": 6,
     "metadata": {},
     "output_type": "execute_result"
    }
   ],
   "source": [
    "vecs"
   ]
  },
  {
   "cell_type": "code",
   "execution_count": 7,
   "id": "f322f58d",
   "metadata": {},
   "outputs": [
    {
     "data": {
      "text/plain": [
       "array([21.93924085+0.j        ,  0.97123727+0.j        ,\n",
       "       -3.45523906+0.27472254j, -3.45523906-0.27472254j])"
      ]
     },
     "execution_count": 7,
     "metadata": {},
     "output_type": "execute_result"
    }
   ],
   "source": [
    "vals"
   ]
  },
  {
   "cell_type": "markdown",
   "id": "72013106",
   "metadata": {},
   "source": [
    "<h2>Modelo de Leslie</h2>\n",
    "\n",
    "Hay muchas formas de modelar el comportamiento de una población determinada, para mostrar cómo trabaja el modelo de Leslie vamos a dar un ejemplo. Imaginemos una población de insectos que tiene una esperanza de vida máxima de 4 años, los agruparemos en cuatro categorías:\n",
    "\n",
    "|Edad(años)|Población|Tasa de natalidad (individuos por año)|Probabilidad de sobrevivir|\n",
    "|:--------:|:--------|:------------------------------------:|:------------------------:|\n",
    "|0-1       |   30    |0|0.7|\n",
    "|1-2       |35       |4|0.5|\n",
    "|2-3       | 25      |2|0.2|\n",
    "|3-4       |10       |1|0.0|\n",
    "\n",
    "\n",
    "cada categoría tiene su propia tasa de natalidad expresada en individuos nacidos por año y una probabilidad de sobrevivir y ascender a la siguiente categoría. Si queremos saber cuántos individuos tendrán edades entre 0 y 1 años después de un año, es decir todos los individuos que nacieron durante ese año, tendríamos que calcularlo de la siguiente manera:\n",
    "\n",
    "- cada uno de los 30 individuos de la categoría _0-1_ tiene 0 descendientes, en total 30 * 0 = 0\n",
    "- cada uno de los 35 individuos de la categoría _1-2_ tiene 4 descendientes, en total 35 * 4 = 140\n",
    "- cada uno de los 25 individuos de la categoría _2-3_ tiene 2 descendientes, en total 25 * 2 = 50\n",
    "- cada uno de los 10 individuos de la categoría _3-4_ tiene 1 descendientes, en total 10 * 1 = 10\n",
    "\n",
    "Esto nos da un total de 200 nacidos en después de un año. Ahora imaginemos que queremos saber cuántos individuos entre 1 y 2 años de edad tendremos después de 1 año. En este caso haríamos lo siguiente:\n",
    "\n",
    "- El 70% de los individuos de la primer categoría sobrevivieron para alcanzar la segunda, es decir:  30 * 0.7 = 21 \n",
    "\n",
    "Este análisis se puede simplificar enormemente usando una matriz de Leslie, la matriz de Leslie es una matriz cuadrada, su primer renglón está formado por las tasas de natalidad de todas las categorías, los demás elementos son 0 excepto los elementos de la diagonal menor que contienen las probabilidades de supervivencia.\n",
    "\n",
    "$$\n",
    "L =\n",
    "\\begin{bmatrix}\n",
    "0 & 4 & 2 & 1\\\\\n",
    "0.7 & 0 & 0 & 0\\\\\n",
    "0 & 0.5 & 0 & 0\\\\\n",
    "0 & 0 & 0.2 & 0\\\\\n",
    "\\end{bmatrix}\n",
    "$$\n",
    "\n",
    "Esta matriz, junto con un vector columna con la población inicial de cada categoría, nos facilita mucho el análisis de la dinámica de la población. Sea $\\vec{x_0}$ el vector de poblaciones iniciales:\n",
    "\n",
    "$$\n",
    "\\vec{x_0} = \n",
    "\\begin{bmatrix}\n",
    "30\\\\\n",
    "35\\\\\n",
    "25\\\\\n",
    "10\n",
    "\\end{bmatrix}\n",
    "$$\n",
    "\n",
    "Podemos calcular la población después de un año $\\vec{x_1}$ haciendo $\\vec{x_1} = L \\vec{x_0}$\n",
    "\n",
    "$$\n",
    "\\vec{x_1} = \n",
    "\\begin{bmatrix}\n",
    "0 & 4 & 2 & 1\\\\\n",
    "0.7 & 0 & 0 & 0\\\\\n",
    "0 & 0.5 & 0 & 0\\\\\n",
    "0 & 0 & 0.2 & 0\\\\\n",
    "\\end{bmatrix}\n",
    "\\begin{bmatrix}\n",
    "30\\\\\n",
    "35\\\\\n",
    "25\\\\\n",
    "10\n",
    "\\end{bmatrix}\n",
    "=\n",
    "\\begin{bmatrix}\n",
    "200\\\\\n",
    "21\\\\\n",
    "17.5\\\\\n",
    "5\n",
    "\\end{bmatrix}\n",
    "$$\n",
    "\n",
    "En general, conocer la población después de $n$ años simplemente lo hacemos calculando:\n",
    "\n",
    "$$ \\vec{x_n} = L^n \\vec{x_0}$$\n",
    "\n",
    "\n",
    "La matriz de Leslie tiene la propiedad de tener un único valor característico positivo $\\lambda_1$ que representa la tasa de crecimiento de la población, si $\\lambda_1 < 1$ la población disminuye y si $\\lambda_1 > 1$ esta aumenta.\n",
    "\n",
    "\n",
    "\n"
   ]
  },
  {
   "cell_type": "code",
   "execution_count": 2,
   "id": "1bd3105e",
   "metadata": {},
   "outputs": [
    {
     "data": {
      "image/png": "[encoded data removed]",
      "text/plain": [
       "<Figure size 640x480 with 1 Axes>"
      ]
     },
     "metadata": {},
     "output_type": "display_data"
    }
   ],
   "source": [
    "import matplotlib.pyplot as plt\n",
    "import numpy as np\n",
    "# Parámetros del modelo de Leslie\n",
    "edades = np.arange(0, 6, 1)  # Edades discretas\n",
    "tasa_natalidad = np.array([0, 3, 2, 1, 0, 0])  # Tasa de natalidad por grupo de edad\n",
    "matriz_leslie = np.array([[0, 1, 2, 0, 0, 0],\n",
    "                          [0.5, 0, 0, 0, 0, 0],\n",
    "                          [0, 0.5, 0, 0, 0, 0],\n",
    "                          [0, 0, 0.5, 0, 0, 0],\n",
    "                          [0, 0, 0, 0.5, 0, 0],\n",
    "                          [0, 0, 0, 0, 0.5, 0]])  # Matriz Leslie\n",
    "# Función para simular una generación\n",
    "def simular_generacion(poblacion_actual, matriz_leslie):\n",
    "    return np.dot(matriz_leslie, poblacion_actual)\n",
    "# Inicialización de la población\n",
    "poblacion_inicial = np.array([100, 50, 30, 20, 10, 5])\n",
    "# Simulación de varias generaciones\n",
    "generaciones = 10\n",
    "poblacion_total = [poblacion_inicial]\n",
    "for _ in range(generaciones):\n",
    "    nueva_poblacion = simular_generacion(poblacion_total[-1], matriz_leslie)\n",
    "    poblacion_total.append(nueva_poblacion)\n",
    "# Creación de la gráfica\n",
    "for i in range(6):\n",
    "    plt.plot(range(generaciones + 1), [poblacion[i] for poblacion in poblacion_total], label=f'Edad {i}')\n",
    "plt.title('Modelo de Leslie - Distribución de Edades')\n",
    "plt.xlabel('Generaciones')\n",
    "plt.ylabel('Población')\n",
    "plt.legend()\n",
    "plt.show()"
   ]
  },
  {
   "cell_type": "markdown",
   "id": "e9d3fe8e",
   "metadata": {},
   "source": [
    "En el primer renglon se pone la natalidad Vs la probabilidad de sobrevivir\n",
    "lamba menor a 1 muere, mayor a 1 crece mucho"
   ]
  },
  {
   "cell_type": "code",
   "execution_count": 8,
   "id": "603b9ecf",
   "metadata": {},
   "outputs": [],
   "source": [
    "L = np.array([[0,4,2,1],[0.7,0,0,0],[0,0.5,0,0],[0,0,0.2,0]])"
   ]
  },
  {
   "cell_type": "code",
   "execution_count": 9,
   "id": "fac43102",
   "metadata": {},
   "outputs": [
    {
     "data": {
      "text/plain": [
       "array([[0. , 4. , 2. , 1. ],\n",
       "       [0.7, 0. , 0. , 0. ],\n",
       "       [0. , 0.5, 0. , 0. ],\n",
       "       [0. , 0. , 0.2, 0. ]])"
      ]
     },
     "execution_count": 9,
     "metadata": {},
     "output_type": "execute_result"
    }
   ],
   "source": [
    "L"
   ]
  },
  {
   "cell_type": "code",
   "execution_count": 10,
   "id": "28234319",
   "metadata": {},
   "outputs": [],
   "source": [
    "x = np.array([30,35,25,10])"
   ]
  },
  {
   "cell_type": "code",
   "execution_count": 11,
   "id": "499eca98",
   "metadata": {},
   "outputs": [
    {
     "data": {
      "text/plain": [
       "array([124. , 140. ,  10.5,   3.5])"
      ]
     },
     "execution_count": 11,
     "metadata": {},
     "output_type": "execute_result"
    }
   ],
   "source": [
    "L @ L @ x"
   ]
  },
  {
   "cell_type": "code",
   "execution_count": 12,
   "id": "e77eff39",
   "metadata": {},
   "outputs": [
    {
     "data": {
      "text/plain": [
       "array([ 1.79230295+0.j        , -1.54119328+0.j        ,\n",
       "       -0.12555484+0.09786378j, -0.12555484-0.09786378j])"
      ]
     },
     "execution_count": 12,
     "metadata": {},
     "output_type": "execute_result"
    }
   ],
   "source": [
    "np.linalg.eigvals(L)"
   ]
  },
  {
   "cell_type": "code",
   "execution_count": 13,
   "id": "2d3c3b43",
   "metadata": {},
   "outputs": [
    {
     "name": "stdout",
     "output_type": "stream",
     "text": [
      "Valores Propios (Eigenvalues): [ 1.79230295+0.j         -1.54119328+0.j         -0.12555484+0.09786378j\n",
      " -0.12555484-0.09786378j]\n"
     ]
    }
   ],
   "source": [
    "eigenvalues = np.linalg.eigvals(L)\n",
    "print(\"Valores Propios (Eigenvalues):\", eigenvalues)"
   ]
  },
  {
   "cell_type": "code",
   "execution_count": 15,
   "id": "d9cee210",
   "metadata": {},
   "outputs": [],
   "source": [
    "def pob_leslie(n, L, x0):\n",
    "    if n == 0:\n",
    "        return x0\n",
    "    elif n == 1:\n",
    "        return L @ x0\n",
    "    else:\n",
    "        return L @ pob_leslie(n -1, L, x0)"
   ]
  },
  {
   "cell_type": "code",
   "execution_count": 16,
   "id": "61bc0b00",
   "metadata": {},
   "outputs": [
    {
     "data": {
      "text/plain": [
       "array([584.5,  86.8,  70. ,   2.1])"
      ]
     },
     "execution_count": 16,
     "metadata": {},
     "output_type": "execute_result"
    }
   ],
   "source": [
    "pob_leslie(3, L, x)"
   ]
  },
  {
   "cell_type": "code",
   "execution_count": 18,
   "id": "31aff9fb",
   "metadata": {},
   "outputs": [],
   "source": [
    "pob = [pob_leslie(i,L,x) for i in range (30)]"
   ]
  },
  {
   "cell_type": "code",
   "execution_count": 19,
   "id": "4b1235df",
   "metadata": {},
   "outputs": [],
   "source": [
    "pob1= [elem[0] for elem in pob]\n",
    "pob2= [elem[1] for elem in pob]\n",
    "pob3= [elem[2] for elem in pob]\n",
    "pob4= [elem[3] for elem in pob]"
   ]
  },
  {
   "cell_type": "code",
   "execution_count": 21,
   "id": "e6694dff",
   "metadata": {},
   "outputs": [
    {
     "data": {
      "image/png": "[encoded data removed]",
      "text/plain": [
       "<Figure size 1200x600 with 1 Axes>"
      ]
     },
     "metadata": {},
     "output_type": "display_data"
    }
   ],
   "source": [
    "import matplotlib.pyplot as plt\n",
    "import numpy as np\n",
    "# Supongamos que tienes las listas pob1, pob2, pob3, pob4 definidas previamente\n",
    "fig, ax = plt.subplots(figsize=(12, 6))\n",
    "x = np.arange(0, 30)\n",
    "for i, elem in enumerate([pob1, pob2, pob3, pob4]):\n",
    "    ax.plot(x, elem, label='$P_{}$'.format(i + 1))\n",
    "ax.set_title(\"Población\")\n",
    "ax.set_xlabel('Años')\n",
    "ax.set_ylabel('Población')\n",
    "ax.legend()  # Agrega esta línea para mostrar las etiquetas\n",
    "plt.show()"
   ]
  },
  {
   "cell_type": "markdown",
   "id": "e503782e",
   "metadata": {},
   "source": [
    "#### Ejercicio\n",
    "\n",
    "Use una matriz de Leslie para estudiar el comportamiento de la siguiente población en los próximos 50 años, genere una gráfica que permita ver el comportamiento de cada intervalo de edades de forma independiente y otro que permita ver el comportamiento global de la población.\n",
    "\n",
    "- ¿La población crece sin medida?\n",
    "- Después de 30 años, ¿Cuál es el sector más numeroso de la población?\n",
    "\n",
    "\n",
    "|Edad(años)|Población inicial|Tasa de natalidad (individuos por año)|Probabilidad de sobrevivir|\n",
    "|:--------:|:---------------:|:------------------------------------:|:------------------------:|\n",
    "|0-5       |   100           |0|0.25|\n",
    "|5-10      |60               |1|0.5 |\n",
    "|10-15     | 20              |3|0.1 |\n",
    "|15-20     |10               |2|0.0 |\n",
    "\n"
   ]
  },
  {
   "cell_type": "code",
   "execution_count": null,
   "id": "926764e0",
   "metadata": {},
   "outputs": [],
   "source": []
  },
  {
   "cell_type": "markdown",
   "id": "9b6cbe8d",
   "metadata": {},
   "source": [
    "<h2>Modelo de Leontief (input-output)</h2>\n",
    "\n",
    "El método es utilizado para analizar las relaciones existentes entre diferentes sectores\n",
    "de producción y consumo que forman parte de la economía de una nación aunque\n",
    "en la actualidad puede ser usado en contextos más limitados, como por ejemplo,\n",
    "grandes empresas.\n",
    "\n",
    "El modelo supone que la economía a estudiar está formada por diferentes sectores\n",
    "de producción y de servicios. Existe una demanda interna que se tiene que atender\n",
    "y también una demanda externa que también hay que satisfacer.\n",
    "\n",
    "Supongamos la tabla siguiente que representa a las necesidades de demanda interna:\n",
    "\n",
    "|Producción/demanda|Agricultura|Manufactura|Servicios|Demanda Externa|Producción|\n",
    "|:----------------:|:---------:|:---------:|:-------:|:-------------:|:--------:|\n",
    "|Agricultura|600|400|1400|600|3000|\n",
    "|Manufactura|1500|800|700|1000|4000|\n",
    "|Servicios|900|2800|700|2600|7000|\n",
    "\n",
    "Para conocer que tanto necesita cada industria de las demás para llevar a cabo su producción nos apoyaremos de la matriz tecnológica denotada como $A$, la definimos como sigue:\n",
    "\n",
    "$$A = B X_p^{-1}$$\n",
    "\n",
    "Donde $X_p$ es la matriz diagonal que tiene por elementos la producción.\n",
    "\n",
    "$$\n",
    "A = \n",
    "\\begin{bmatrix}\n",
    "600&400&1400\\\\\n",
    "1500&800&700\\\\\n",
    "900&2800&700\\\\\n",
    "\\end{bmatrix}\n",
    "\\begin{bmatrix}\n",
    "\\frac{1}{3000}&0&0\\\\\n",
    "0&\\frac{1}{4000}&0\\\\\n",
    "0&0&\\frac{1}{7000}\\\\\n",
    "\\end{bmatrix}\n",
    "=\n",
    "\\begin{bmatrix}\n",
    "0.2&0.1&0.2\\\\\n",
    "0.5&0.2&0.1\\\\\n",
    "0.3&0.7&0.1\\\\\n",
    "\\end{bmatrix}\n",
    "$$\n",
    "\n",
    "\n",
    "Noten que la matriz tecnológica cumple que la suma de los valores de cada columna no puede ser mayor que 1, es decir:\n",
    "\n",
    "$$\\sum_{i = 1}^{n} a_{ij} \\leq 1$$\n",
    "\n",
    "\n",
    "Cada columna de la matriz tecnológica representa la demanda interna de la industria para producir 1 unidad de cada industria, es decir, en este ejemplo la primera columna representa la demanda interna pata producir 1 unidad del sector Agricultura, pero si en lugar que querer producir una unidad queremos producir $x_A$ unidades, tendremos que multiplicar dicha columna por $x_A$. Supongamos que la producción de cada industria es $x_A$, $x_M$, y $x_S$, entonces la demanda interna total la podemos expresar como sigue:\n",
    "\n",
    "$$\n",
    "x_A\n",
    "\\begin{bmatrix}\n",
    "0.2\\\\\n",
    "0.5\\\\\n",
    "0.3\\\\\n",
    "\\end{bmatrix}\n",
    "+\n",
    "x_M\n",
    "\\begin{bmatrix}\n",
    "0.1\\\\\n",
    "0.2\\\\\n",
    "0.7\\\\\n",
    "\\end{bmatrix}\n",
    "+\n",
    "x_S\n",
    "\\begin{bmatrix}\n",
    "0.2\\\\\n",
    "0.1\\\\\n",
    "0.1\\\\\n",
    "\\end{bmatrix}\n",
    "$$\n",
    "\n",
    "Que podemos expresar como un producto matricial de la siguiente forma:\n",
    "\n",
    "$$\n",
    "\\begin{bmatrix}\n",
    "0.2&0.1&0.2\\\\\n",
    "0.5&0.2&0.1\\\\\n",
    "0.3&0.7&0.1\\\\\n",
    "\\end{bmatrix}\n",
    "\\begin{bmatrix}\n",
    "x_A\\\\\n",
    "x_M\\\\\n",
    "x_S\\\\\n",
    "\\end{bmatrix}\n",
    "= AX\n",
    "$$\n",
    "\n",
    "\n",
    "\n",
    "A dicho producto lo llamaremos demanda interna. Ahora notemos que la producción total de las industrias debe de cubrir la demanda interna y la demanda externa al mismo tiempo, es decir:\n",
    "\n",
    "$$X = AX + D$$\n",
    "\n",
    "Esta es la ecuación de Leontief y al resolverla para $X$ podemos saber cual es la producción necesaria para cubrir una cierta demanda externa $D$.\n",
    "\n",
    "$$X - AX = D$$\n",
    "$$(I - A)X = D$$\n",
    "\n",
    "A la matriz $(I - A)$ se le conoce como matriz de Leontief, y si dicha matriz tiene inversa entonces podemos resolver la ecuación como:\n",
    "\n",
    "$$X = (I - A)^{-1}D$$"
   ]
  },
  {
   "cell_type": "markdown",
   "id": "efb3d194",
   "metadata": {},
   "source": [
    "<h3>Ejercicio</h3>\n",
    "\n",
    "\n",
    "- Generar una DF de 10 filas y 12 columnas, las filas representarán 10 industrias $I_n$, las columnas serán las 10 industrias, la demanda externa y la producción total, generar de forma aleatoria los valores de la tabla (las unidades de consumo de cada industria, la demanda externa y la producción total, recordando que la suma de las columnas no puede ser mayor que la producción total de cada empresa).\n",
    "\n",
    "- Obtener la matriz tecnológica del DF anterior\n",
    "\n",
    "- Suponga que en un estudio de mercado se determina que la demanda externa de las industrias va a cambiar según se expresa en el siguiente vector:\n",
    "\n",
    "$$\n",
    "\\begin{bmatrix}\n",
    "1.1\\\\\n",
    "0.3\\\\\n",
    "1.6\\\\\n",
    "1.0\\\\\n",
    "0.7\\\\\n",
    "0.5\\\\\n",
    "3.9\\\\\n",
    "1.2\\\\\n",
    "0.1\\\\\n",
    "2.4\\\\\n",
    "\\end{bmatrix}\n",
    "$$\n",
    "\n",
    "- obtener el vector de producción necesario para cumplir con la proyección"
   ]
  },
  {
   "cell_type": "code",
   "execution_count": null,
   "id": "1c7dfd19",
   "metadata": {},
   "outputs": [],
   "source": [
    "\n"
   ]
  }
 ],
 "metadata": {
  "kernelspec": {
   "display_name": "Python 3 (ipykernel)",
   "language": "python",
   "name": "python3"
  },
  "language_info": {
   "codemirror_mode": {
    "name": "ipython",
    "version": 3
   },
   "file_extension": ".py",
   "mimetype": "text/x-python",
   "name": "python",
   "nbconvert_exporter": "python",
   "pygments_lexer": "ipython3",
   "version": "3.11.5"
  },
  "varInspector": {
   "cols": {
    "lenName": 16,
    "lenType": 16,
    "lenVar": 40
   },
   "kernels_config": {
    "python": {
     "delete_cmd_postfix": "",
     "delete_cmd_prefix": "del ",
     "library": "var_list.py",
     "varRefreshCmd": "print(var_dic_list())"
    },
    "r": {
     "delete_cmd_postfix": ") ",
     "delete_cmd_prefix": "rm(",
     "library": "var_list.r",
     "varRefreshCmd": "cat(var_dic_list()) "
    }
   },
   "types_to_exclude": [
    "module",
    "function",
    "builtin_function_or_method",
    "instance",
    "_Feature"
   ],
   "window_display": false
  }
 },
 "nbformat": 4,
 "nbformat_minor": 5
}
