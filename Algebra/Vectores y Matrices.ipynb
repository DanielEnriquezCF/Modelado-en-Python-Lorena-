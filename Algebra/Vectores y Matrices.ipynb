{
 "cells": [
  {
   "cell_type": "markdown",
   "id": "dd3fb0c1",
   "metadata": {},
   "source": [
    "<hr>\n",
    "<h1>Contenido</h1>\n",
    "\n",
    "$$$$\n",
    "\n",
    "- [Glosario](#Glosario)\n",
    "\n",
    "- [Vectores](#Vectores)\n",
    "- [Matrices](#Matrices)\n",
    "- [Producto de matrices y vectores](#Producto-de-matrices-y-vectores)\n",
    "    - [Producto escalar](#Producto-escalar)\n",
    "    - [Multiplicación de matrices](#Multiplicación-de-matrices)\n",
    "    \n",
    "- [Matrices Especiales](#Matrices-Especiales)\n",
    "    - [Matriz Identidad](#Matriz-Identidad)\n",
    "    - [Matriz Diagonal](#Matriz-Diagonal)\n",
    "    - [Matriz Triangular](#Matriz-Triangular)\n",
    "    - [Matriz Elemental](#Matriz-Elemental)\n",
    "    - [Matriz Transpuesta](#Matriz-Transpuesta)\n",
    "    - [Matriz Inversa](#Matriz-Inversa)\n",
    "    - [Matriz Ortogonal](#Matriz-Ortogonal)"
   ]
  },
  {
   "cell_type": "markdown",
   "id": "1c69183b",
   "metadata": {},
   "source": [
    "[Regresar al Contenido](#Contenido)"
   ]
  },
  {
   "cell_type": "markdown",
   "id": "381b1a81",
   "metadata": {},
   "source": [
    "<hr>\n",
    "<h2>Glosario</h2>\n",
    "\n",
    "- Dimensión(Vector):\n",
    "    El número de entradas o componentes que tiene un vector\n",
    "    \n",
    "- Dimensión(Matriz):\n",
    "    El número de filas  y columnas($f \\times c$) que tiene una matriz, en caso de ser cuadrada se representa en un solo número\n",
    "    \n",
    "- Escalar:\n",
    "    Un número real($\\mathbb{R}$) o complejo($\\mathbb{C}$), carente de la característica vectorial de dirección.\n",
    "    \n",
    "- Espacio Vectorial:\n",
    "    es un conjunto($W$) cuyos elementos llamamos vectores, y que tiene definida una operación suma entre sus elementos y una operación producto entre uno de sus elementos y un escalar, que cumplen las siguientes propiedades:\n",
    "    1. Sean $u, v \\in W$, entonces $u + v \\in W$ \n",
    "    2. Sea $a \\in \\mathbb{R}$ y $u \\in W$, entonces $a\\cdot u \\in W$\n",
    "\n",
    "- Magnitud(vector):\n",
    "    lo entenderemos geométricamente como el tamaño del vector, y lo definiremos como: $|\\vec{x}| = \\sqrt{x_1^2 + x_2^2 + \\cdots + x_n^2}$\n",
    "    \n",
    "    \n",
    "- Matriz cuadrada:\n",
    "    Es una matriz que tiene el mismo número de renglones y de columnas, se representa únicamente como $A_n$\n",
    "    \n",
    "- Matriz Elemental:\n",
    "    Una matriz elemental de orden $n$ es una matriz que se obtiene a partir de la matriz identidad $I_{n}$ aplicando solo una operación elemental de fila o columna.\n",
    "    "
   ]
  },
  {
   "cell_type": "markdown",
   "id": "bcc399da",
   "metadata": {},
   "source": [
    "[Regresar al Contenido](#Contenido)"
   ]
  },
  {
   "cell_type": "markdown",
   "id": "3cac3c6b",
   "metadata": {},
   "source": [
    "<hr>\n",
    "<h2>Vectores</h2>\n",
    "\n",
    "De las múltiples definiciones que existen para los vectores, nos quedaremos con aquella en la que los entendemos como arreglos ordenados de $n$ elementos ($n$ se llama la **dimensión** del vector), por ejemplo la siguiente es un vector fila de dimensión $n$:\n",
    "\n",
    "$$$$\n",
    "\n",
    "$$\\vec{x} = \n",
    "\\begin{bmatrix}\n",
    "x_1 & x_2 & \\cdots & x_n\\\\\n",
    "\\end{bmatrix}\n",
    "$$\n",
    "\n",
    "$$$$\n",
    "\n",
    "Los elementos de $\\vec{x}$ son números reales ($\\mathbb{R}$) o complejos ($\\mathbb{C}$), dependiendo del caso decimos que $x \\in \\mathbb{R} ^n$ o $x \\in \\mathbb{C}^n$. También podemos representarlos en forma de columna:\n",
    "\n",
    "$$$$\n",
    "\n",
    "$$\\vec{y} = \n",
    "\\begin{bmatrix}\n",
    "y_1\\\\\n",
    "y_2\\\\ \n",
    "\\vdots\\\\\n",
    "y_n\\\\\n",
    "\\end{bmatrix}\n",
    "$$\n",
    "\n",
    "$$$$\n",
    "\n",
    "Tenemos dos operaciones elementales con vectores: _la suma de vectores y la multiplicación por un escalar_. La suma de vectores se define entre vectores de la misma **dimensión** y esta se define a continuación:\n",
    "\n",
    "$$$$\n",
    "\n",
    "\n",
    "$$\\vec{x} + \\vec{y} = \n",
    "\\begin{bmatrix}\n",
    "x_1 + y_1 & x_2 + y_2 & \\cdots & x_n + y_n\\\\\n",
    "\\end{bmatrix}\n",
    "$$\n",
    "\n",
    "$$$$\n",
    "\n",
    "Resultando en otro vector con la misma **dimensión**."
   ]
  },
  {
   "cell_type": "code",
   "execution_count": 9,
   "id": "30160265",
   "metadata": {},
   "outputs": [],
   "source": [
    "L1 = [1, 2, 3, 4]\n",
    "L2 = [5, 6, 7, 8]"
   ]
  },
  {
   "cell_type": "code",
   "execution_count": 10,
   "id": "b9c6dc3f",
   "metadata": {},
   "outputs": [
    {
     "data": {
      "text/plain": [
       "[1, 2, 3, 4, 5, 6, 7, 8]"
      ]
     },
     "execution_count": 10,
     "metadata": {},
     "output_type": "execute_result"
    }
   ],
   "source": [
    "L1 + L2"
   ]
  },
  {
   "cell_type": "markdown",
   "id": "9550d6d8",
   "metadata": {},
   "source": [
    "Métodos: Comportamientos\n",
    "Atributos: Caracteriticas"
   ]
  },
  {
   "cell_type": "code",
   "execution_count": 32,
   "id": "5b560c32",
   "metadata": {},
   "outputs": [],
   "source": [
    "class Vector:\n",
    "    \n",
    "    def __init__(self, vals):\n",
    "        self.vals = vals\n",
    "        \n",
    "    def __repr__(self):\n",
    "        msn = ''\n",
    "        \n",
    "        for elem in self.vals[:-1]:\n",
    "            msn += '{},'\n",
    "            \n",
    "        msn += '{}'\n",
    "        return ('<' + msn + '>').format(*self.vals)\n",
    "    \n",
    "    def __add__(self, other):\n",
    "        if isinstance(other, Vector):\n",
    "            r = []\n",
    "            \n",
    "            for i in range(len(self.vals)):\n",
    "                r.append(self.vals[i] + other.vals[i])\n",
    "                \n",
    "            return Vector (r)"
   ]
  },
  {
   "cell_type": "code",
   "execution_count": null,
   "id": "350c4b35",
   "metadata": {},
   "outputs": [],
   "source": [
    "int , float"
   ]
  },
  {
   "cell_type": "code",
   "execution_count": 47,
   "id": "6b62bb37",
   "metadata": {},
   "outputs": [],
   "source": [
    "u= Vector ([1, 2, 3])\n",
    "v= Vector ([4, 5, 6])"
   ]
  },
  {
   "cell_type": "code",
   "execution_count": 21,
   "id": "6ef9f020",
   "metadata": {},
   "outputs": [],
   "source": [
    "u = Vector([1, 2, 3])"
   ]
  },
  {
   "cell_type": "code",
   "execution_count": 22,
   "id": "2da4dae7",
   "metadata": {},
   "outputs": [
    {
     "data": {
      "text/plain": [
       "[1, 2, 3]"
      ]
     },
     "execution_count": 22,
     "metadata": {},
     "output_type": "execute_result"
    }
   ],
   "source": [
    "u.vals"
   ]
  },
  {
   "cell_type": "code",
   "execution_count": 30,
   "id": "32b192bc",
   "metadata": {},
   "outputs": [
    {
     "data": {
      "text/plain": [
       "<5,7,9>"
      ]
     },
     "execution_count": 30,
     "metadata": {},
     "output_type": "execute_result"
    }
   ],
   "source": [
    "u + v"
   ]
  },
  {
   "cell_type": "code",
   "execution_count": 15,
   "id": "d6e6749c",
   "metadata": {},
   "outputs": [
    {
     "data": {
      "text/plain": [
       "[1, 2, 3, 4]"
      ]
     },
     "execution_count": 15,
     "metadata": {},
     "output_type": "execute_result"
    }
   ],
   "source": [
    "L1"
   ]
  },
  {
   "cell_type": "code",
   "execution_count": 14,
   "id": "8d96fa23",
   "metadata": {},
   "outputs": [
    {
     "data": {
      "text/plain": [
       "1"
      ]
     },
     "execution_count": 14,
     "metadata": {},
     "output_type": "execute_result"
    }
   ],
   "source": [
    "L1[-4]"
   ]
  },
  {
   "cell_type": "code",
   "execution_count": 24,
   "id": "c506a7d7",
   "metadata": {},
   "outputs": [
    {
     "name": "stdout",
     "output_type": "stream",
     "text": [
      "[5, 6, 7, 8]\n"
     ]
    }
   ],
   "source": [
    "print(L2)"
   ]
  },
  {
   "cell_type": "markdown",
   "id": "d4377212",
   "metadata": {},
   "source": [
    "Para desemcar la lista se hace: print(*L2)"
   ]
  },
  {
   "cell_type": "markdown",
   "id": "be18dc66",
   "metadata": {},
   "source": [
    "Y la multiplicación escalar se define de la siguiente manera:\n",
    "\n",
    "$$\\alpha \\vec{x} = \n",
    "\\begin{bmatrix}\n",
    "\\alpha x_1 & \\alpha x_2 & \\cdots & \\alpha x_n \\\\\n",
    "\\end{bmatrix}\n",
    "$$"
   ]
  },
  {
   "cell_type": "code",
   "execution_count": 53,
   "id": "df8c9c97",
   "metadata": {},
   "outputs": [
    {
     "name": "stdout",
     "output_type": "stream",
     "text": [
      "<3,6,9>\n"
     ]
    }
   ],
   "source": [
    "class Vector:\n",
    "    def __init__(self, vals):\n",
    "        self.vals = vals\n",
    "    def __repr__(self):\n",
    "        msn = ''\n",
    "        for elem in self.vals[:-1]:\n",
    "            msn += '{},'\n",
    "        msn += '{}'\n",
    "        return ('<' + msn + '>').format(*self.vals)\n",
    "    def __add__(self, other):\n",
    "        if isinstance(other, Vector):\n",
    "            r = [x + y for x, y in zip(self.vals, other.vals)]\n",
    "            return Vector(r)\n",
    "    def __mul__(self, number):\n",
    "        if isinstance(number, (int, float, complex)):\n",
    "            r = [elem * number for elem in self.vals]\n",
    "            return Vector(r)\n",
    "    def __rmul__(self, number):\n",
    "        # Método inverso para la multiplicación por la derecha\n",
    "        return self.__mul__(number)\n",
    "# Crear un vector\n",
    "v = Vector([1, 2, 3])\n",
    "# Ejemplo de uso de _rmul\n",
    "result = v.__rmul__(3)\n",
    "print(result)"
   ]
  },
  {
   "cell_type": "code",
   "execution_count": null,
   "id": "0fd65fe1",
   "metadata": {},
   "outputs": [],
   "source": [
    "isinstance(a, (int, float, complex))"
   ]
  },
  {
   "cell_type": "code",
   "execution_count": 55,
   "id": "4c1abe6c",
   "metadata": {},
   "outputs": [
    {
     "data": {
      "text/plain": [
       "<3,6,9>"
      ]
     },
     "execution_count": 55,
     "metadata": {},
     "output_type": "execute_result"
    }
   ],
   "source": [
    "v.__rmul__(3)"
   ]
  },
  {
   "cell_type": "code",
   "execution_count": 48,
   "id": "c3db4dd8",
   "metadata": {},
   "outputs": [
    {
     "data": {
      "text/plain": [
       "<12>"
      ]
     },
     "execution_count": 48,
     "metadata": {},
     "output_type": "execute_result"
    }
   ],
   "source": [
    "v * 3"
   ]
  },
  {
   "cell_type": "code",
   "execution_count": null,
   "id": "ef7e64f3",
   "metadata": {},
   "outputs": [],
   "source": [
    "import numpy as np"
   ]
  },
  {
   "cell_type": "code",
   "execution_count": null,
   "id": "4848f74d",
   "metadata": {},
   "outputs": [],
   "source": [
    "u = [i for i in range(120_000)]\n",
    "v = [i ** 2 for i in range (120_000)]"
   ]
  },
  {
   "cell_type": "code",
   "execution_count": 65,
   "id": "57d061f5",
   "metadata": {},
   "outputs": [
    {
     "name": "stdout",
     "output_type": "stream",
     "text": [
      "x**2 + 3*x\n"
     ]
    }
   ],
   "source": [
    "from sympy import symbols\n",
    "x = symbols('x')\n",
    "expression = 3 * x + x**2\n",
    "print(expression)"
   ]
  },
  {
   "cell_type": "code",
   "execution_count": null,
   "id": "6a9c7ca2",
   "metadata": {},
   "outputs": [],
   "source": []
  },
  {
   "cell_type": "markdown",
   "id": "6407d5f3",
   "metadata": {},
   "source": [
    "[Regresar al Contenido](#Contenido)"
   ]
  },
  {
   "cell_type": "markdown",
   "id": "0336d57c",
   "metadata": {},
   "source": [
    "<hr>\n",
    "<h2>Matrices</h2>\n",
    "\n",
    "Entenderemos por matriz $A_{m \\times n}$ un arreglo rectangular de números dispuestos en m filas y n columnas.\n",
    "\n",
    "$$$$\n",
    "\n",
    "$$\n",
    "A = \n",
    "\\begin{bmatrix}\n",
    "a_{11} & a_{12} & \\cdots & a_{1n}\\\\\n",
    "a_{21} & a_{22} & \\cdots & a_{2n}\\\\\n",
    "\\cdots & \\cdots & \\ddots & \\cdots \\\\\n",
    "a_{m1} & a_{m2} & \\cdots & a_{mn}\\\\\n",
    "\\end{bmatrix}\n",
    "$$\n",
    "\n",
    "$$$$\n",
    "\n",
    "Si la matriz tiene el mismo número de filas y columnas, la llamaremos matriz cuadrada y la representaremos como $A_n$. Podemos imaginar cada fila o columna de una matriz por separado como un vector, fila o columna, y también definimos la suma de matrices y el producto por un **escalar** de forma similar a los vectores, la suma elemento a elemento ( entonces las matrices deben tener la misma **dimensión**), y el producto de multiplicar todos los elementos por el **escalar**.\n",
    "\n",
    "$$$$\n",
    "\n",
    "$$\n",
    "A + B = \n",
    "\\begin{bmatrix}\n",
    "a_{11} + b_{11} & a_{12} + b_{12} & \\cdots & a_{1n} + b_{1n}\\\\\n",
    "a_{21} + b_{21} & a_{22} + b_{22} & \\cdots & a_{2n} + b_{2n}\\\\\n",
    "\\cdots & \\cdots & \\ddots & \\cdots \\\\\n",
    "a_{m1} + b_{m1} & a_{m2} + b_{m2} & \\cdots & a_{mn} + b_{mn}\\\\\n",
    "\\end{bmatrix}\n",
    "$$\n",
    "\n",
    "$$$$\n",
    "\n",
    "$$\n",
    "\\alpha A = \n",
    "\\begin{bmatrix}\n",
    "\\alpha a_{11} & \\alpha a_{12} & \\cdots &\\alpha a_{1n}\\\\\n",
    "\\alpha a_{21} &\\alpha a_{22} & \\cdots &\\alpha a_{2n}\\\\\n",
    "\\cdots & \\cdots & \\ddots & \\cdots \\\\\n",
    "\\alpha a_{m1} &\\alpha a_{m2} &\\alpha \\cdots &\\alpha a_{mn}\\\\\n",
    "\\end{bmatrix}\n",
    "$$\n"
   ]
  },
  {
   "cell_type": "code",
   "execution_count": 67,
   "id": "bfff9d27",
   "metadata": {},
   "outputs": [
    {
     "name": "stdout",
     "output_type": "stream",
     "text": [
      "Arreglo bidimensional:\n",
      "[[1 2 3]\n",
      " [4 5 6]\n",
      " [7 8 9]]\n",
      "\n",
      "Arreglo tridimensional:\n",
      "[[[ 1  2  3]\n",
      "  [ 4  5  6]]\n",
      "\n",
      " [[ 7  8  9]\n",
      "  [10 11 12]]]\n"
     ]
    }
   ],
   "source": [
    "import numpy as np\n",
    "# Crear un arreglo bidimensional (matriz)\n",
    "matrix_2d = np.array([[1, 2, 3], [4, 5, 6], [7, 8, 9]])\n",
    "# Crear un arreglo tridimensional\n",
    "array_3d = np.array([[[1, 2, 3], [4, 5, 6]], [[7, 8, 9], [10, 11, 12]]])\n",
    "# Imprimir los arreglos\n",
    "print(\"Arreglo bidimensional:\")\n",
    "print(matrix_2d)\n",
    "print(\"\\nArreglo tridimensional:\")\n",
    "print(array_3d)"
   ]
  },
  {
   "cell_type": "markdown",
   "id": "82f6692b",
   "metadata": {},
   "source": [
    "En este ejemplo, `matrix_2d` es una matriz bidimensional (2x3), y `array_3d` es un arreglo tridimensional con dos capas, cada una con una matriz de dimensiones 2x3. Puedes ajustar las dimensiones según tus necesidades. Asegúrate de tener NumPy instalado (`pip install numpy`) antes de ejecutar este código."
   ]
  },
  {
   "cell_type": "code",
   "execution_count": 69,
   "id": "9fa6ada6",
   "metadata": {},
   "outputs": [
    {
     "name": "stdout",
     "output_type": "stream",
     "text": [
      "Forma de la matriz bidimensional: 3 filas x 3 columnas\n"
     ]
    }
   ],
   "source": [
    "import numpy as np\n",
    "# Crear un arreglo bidimensional (matriz)\n",
    "matrix_2d = np.array([[1, 2, 3], [4, 5, 6], [7, 8, 9]])\n",
    "# Obtener la forma (shape) de la matriz\n",
    "shape_matrix_2d = matrix_2d.shape\n",
    "# Imprimir la forma en un formato legible\n",
    "print(\"Forma de la matriz bidimensional: {} filas x {} columnas\".format(*shape_matrix_2d))"
   ]
  },
  {
   "cell_type": "markdown",
   "id": "1efb5490",
   "metadata": {},
   "source": [
    "Este código imprimirá la forma de la matriz bidimensional en un formato legible, indicando el número de filas y columnas. Asegúrate de ajustar el formato según tus necesidades."
   ]
  },
  {
   "cell_type": "markdown",
   "id": "7a9e4de0",
   "metadata": {},
   "source": [
    "Para extraer la columna 2 y 5 de una matriz NumPy, puedes utilizar el operador de indexación de columnas. Aquí tienes un ejemplo:\n",
    "```python"
   ]
  },
  {
   "cell_type": "code",
   "execution_count": 70,
   "id": "7def1871",
   "metadata": {},
   "outputs": [
    {
     "name": "stdout",
     "output_type": "stream",
     "text": [
      "Columna 2: [ 2  7 12]\n",
      "Columna 5: [ 5 10 15]\n"
     ]
    }
   ],
   "source": [
    "import numpy as np\n",
    "# Crear una matriz\n",
    "matriz = np.array([[1, 2, 3, 4, 5],\n",
    "                   [6, 7, 8, 9, 10],\n",
    "                   [11, 12, 13, 14, 15]])\n",
    "# Extraer la columna 2 y 5\n",
    "columna_2 = matriz[:, 1]  # La indexación comienza desde 0\n",
    "columna_5 = matriz[:, 4]\n",
    "# Imprimir las columnas extraídas\n",
    "print(\"Columna 2:\", columna_2)\n",
    "print(\"Columna 5:\", columna_5)"
   ]
  },
  {
   "cell_type": "markdown",
   "id": "720fafcb",
   "metadata": {},
   "source": [
    "En este ejemplo, `[:, 1]` extrae la columna 2 (columna indexada en 1, ya que la indexación comienza desde 0), y `[:, 4]` extrae la columna 5. Puedes ajustar el código según el índice real de la columna que deseas extraer."
   ]
  },
  {
   "cell_type": "markdown",
   "id": "aaec1a35",
   "metadata": {},
   "source": [
    "[Regresar al Contenido](#Contenido)"
   ]
  },
  {
   "cell_type": "markdown",
   "id": "983c215a",
   "metadata": {},
   "source": [
    "<hr>\n",
    "<h2>Producto de matrices y vectores</h2>\n",
    "\n",
    "<h3>Producto escalar</h3>\n",
    "\n",
    "El producto escalar es un producto definido entre vectores con la misma **dimensión** y que devuelve un **escalar** como resultado. Se define de la siguiente manera:\n",
    "$$$$\n",
    "\n",
    "$$\\vec{x} \\cdot \\vec{y} = x_1 y_1 + x_2 y_2 + \\cdots + x_n y_n$$\n",
    "\n",
    "$$$$\n",
    "O alternativamente lo definimos como:\n",
    "$$$$\n",
    "\n",
    "$$ \\vec{x} \\cdot \\vec{y} = |\\vec{x}| |\\vec{y}|\\cos{\\theta}$$\n",
    "\n",
    "$$$$\n",
    "\n",
    "Donde $|\\vec{x}|$ representa la **norma** del vector $\\vec{x}$ y $\\theta$ es el ángulo más pequeño entre $\\vec{x}$ y $\\vec{y}$. Es importante tener en cuenta que $\\cos{\\theta}$ desaparece cuando $\\theta = \\frac{\\pi}{2}$, por lo que el producto escalar es 0 cuando los vectores son ortogonales."
   ]
  },
  {
   "cell_type": "markdown",
   "id": "9a00c522",
   "metadata": {},
   "source": [
    "Para graficar un producto escalar en Python, puedes usar la biblioteca Matplotlib para crear un gráfico visual. Aquí tienes un ejemplo básico para visualizar el producto escalar de dos vectores:"
   ]
  },
  {
   "cell_type": "code",
   "execution_count": 71,
   "id": "90f3023a",
   "metadata": {},
   "outputs": [
    {
     "data": {
      "image/png": "[encoded data removed]",
      "text/plain": [
       "<Figure size 800x800 with 1 Axes>"
      ]
     },
     "metadata": {},
     "output_type": "display_data"
    }
   ],
   "source": [
    "import numpy as np\n",
    "import matplotlib.pyplot as plt\n",
    "# Definir dos vectores\n",
    "vector_a = np.array([1, 2])\n",
    "vector_b = np.array([2, 1])\n",
    "# Calcular el producto escalar\n",
    "producto_escalar = np.dot(vector_a, vector_b)\n",
    "# Crear un gráfico con flechas que representan los vectores\n",
    "plt.figure(figsize=(8, 8))\n",
    "plt.quiver(0, 0, vector_a[0], vector_a[1], angles='xy', scale_units='xy', scale=1, color='r', label='Vector A')\n",
    "plt.quiver(0, 0, vector_b[0], vector_b[1], angles='xy', scale_units='xy', scale=1, color='b', label='Vector B')\n",
    "# Configurar el gráfico\n",
    "plt.xlim(0, 3)\n",
    "plt.ylim(0, 3)\n",
    "plt.axhline(0, color='black',linewidth=0.5)\n",
    "plt.axvline(0, color='black',linewidth=0.5)\n",
    "plt.grid(color = 'gray', linestyle = '--', linewidth = 0.5, alpha = 0.5)\n",
    "plt.title(f'Producto Escalar: {producto_escalar}', fontsize=14)\n",
    "plt.legend()\n",
    "plt.show()"
   ]
  },
  {
   "cell_type": "markdown",
   "id": "5406d54a",
   "metadata": {},
   "source": [
    "Este código utiliza `numpy` para calcular el producto escalar de dos vectores y `matplotlib` para crear un gráfico con flechas que representan los vectores. Asegúrate de tener ambas bibliotecas instaladas antes de ejecutar el código:"
   ]
  },
  {
   "cell_type": "markdown",
   "id": "0211bd13",
   "metadata": {},
   "source": [
    "[Regresar al Contenido](#Contenido)"
   ]
  },
  {
   "cell_type": "markdown",
   "id": "51029816",
   "metadata": {},
   "source": [
    "<h3>Multiplicación de matrices</h3>\n",
    "\n",
    "El Producto entre matrices se define entre dos matrices $A_{m \\times n}$ y $B_{n \\times p}$ y dará como resultado una matriz $C_{m \\times p} $, cuyos elementos se definen como $ c_{ij} = a_{i1} b_{1j} + a_{i2} b_{2j} + \\cdots + a_{in} b_{nj}$\n",
    "\n",
    "\n",
    "<img src=https://upload.wikimedia.org/wikipedia/commons/thumb/1/11/Matrix_multiplication_diagram.svg/800px-Matrix_multiplication_diagram.svg.png width = 400 height = 400>\n",
    "\n",
    "\n",
    "Podemos interpretar el elemento $c_{ij}$ como el producto escalar entre el vector de fila i-ésima de $A$ y el vector de columna j-ésima de $B$.\n",
    "\n",
    "$$c_{ij} =\n",
    "\\begin{bmatrix}\n",
    "a_{i1} & a_{i2} & \\cdots & a_{in}\n",
    "\\end{bmatrix}\n",
    "\\begin{bmatrix}\n",
    "b_{1j}\\\\\n",
    "b_{2j}\\\\\n",
    "\\vdots \\\\\n",
    "b_{nj}\\\\\n",
    "\\end{bmatrix}\n",
    "= a_{i1}b_{1j} + a_{i2}b_{2j} + \\cdots + a_{in}b_{nj}\n",
    "$$"
   ]
  },
  {
   "cell_type": "markdown",
   "id": "818f570b",
   "metadata": {},
   "source": [
    "Multiplicar matrices en Python utilizando NumPy. Aquí tienes un ejemplo básico:"
   ]
  },
  {
   "cell_type": "code",
   "execution_count": 72,
   "id": "dad6c90b",
   "metadata": {},
   "outputs": [
    {
     "name": "stdout",
     "output_type": "stream",
     "text": [
      "Matriz A:\n",
      "[[1 2 3]\n",
      " [4 5 6]]\n",
      "\n",
      "Matriz B:\n",
      "[[ 7  8]\n",
      " [ 9 10]\n",
      " [11 12]]\n",
      "\n",
      "Resultado de la multiplicación:\n",
      "[[ 58  64]\n",
      " [139 154]]\n"
     ]
    }
   ],
   "source": [
    "import numpy as np\n",
    "# Definir dos matrices\n",
    "matriz_a = np.array([[1, 2, 3], [4, 5, 6]])\n",
    "matriz_b = np.array([[7, 8], [9, 10], [11, 12]])\n",
    "# Multiplicar las matrices\n",
    "resultado = np.dot(matriz_a, matriz_b)\n",
    "# Imprimir el resultado\n",
    "print(\"Matriz A:\")\n",
    "print(matriz_a)\n",
    "print(\"\\nMatriz B:\")\n",
    "print(matriz_b)\n",
    "print(\"\\nResultado de la multiplicación:\")\n",
    "print(resultado)"
   ]
  },
  {
   "cell_type": "code",
   "execution_count": 75,
   "id": "5ae726a8",
   "metadata": {},
   "outputs": [
    {
     "name": "stdout",
     "output_type": "stream",
     "text": [
      "Matrices con mismas dimensiones\n",
      "Resultado\n",
      "[[ 58  64]\n",
      " [139 154]]\n"
     ]
    }
   ],
   "source": [
    "import numpy as np\n",
    "def multiplicacion_valida(matriz_a, matriz_b):\n",
    "    num_columnas_a = matriz_a.shape[1]\n",
    "    num_filas_b = matriz_b.shape[0]\n",
    "    if num_columnas_a == num_filas_b:\n",
    "        return True\n",
    "    else:\n",
    "        return False\n",
    "# Ejemplos\n",
    "matriz_a = np.array([[1, 2, 3], [4, 5, 6]])\n",
    "matriz_b = np.array([[7, 8], [9, 10], [11, 12]])\n",
    "if multiplicacion_valida(matriz_a, matriz_b):\n",
    "    resultado = np.dot(matriz_a, matriz_b)\n",
    "    print(\"Matrices con mismas dimensiones\")\n",
    "    print(\"Resultado\")\n",
    "    print(resultado)\n",
    "else:\n",
    "    print(\"Las matrices no son compatibles\")"
   ]
  },
  {
   "cell_type": "code",
   "execution_count": 76,
   "id": "eea3a334",
   "metadata": {},
   "outputs": [
    {
     "name": "stdout",
     "output_type": "stream",
     "text": [
      "Las matrices pueden multiplicarse.\n",
      "Resultado de la multiplicación:\n",
      "[58, 64]\n",
      "[139, 154]\n"
     ]
    }
   ],
   "source": [
    "def multiplicacion_matrices(matriz_a, matriz_b):\n",
    "    if len(matriz_a[0]) != len(matriz_b):\n",
    "        raise ValueError(\"Las matrices no pueden multiplicarse debido a dimensiones incompatibles.\")\n",
    "    num_filas_a = len(matriz_a)\n",
    "    num_columnas_a = len(matriz_a[0])\n",
    "    num_columnas_b = len(matriz_b[0])\n",
    "    resultado = [[0 for _ in range(num_columnas_b)] for _ in range(num_filas_a)]\n",
    "    for i in range(num_filas_a):\n",
    "        for j in range(num_columnas_b):\n",
    "            for k in range(num_columnas_a):\n",
    "                resultado[i][j] += matriz_a[i][k] * matriz_b[k][j]\n",
    "    return resultado\n",
    "# Ejemplo de uso\n",
    "matriz_a = [[1, 2, 3], [4, 5, 6]]\n",
    "matriz_b = [[7, 8], [9, 10], [11, 12]]\n",
    "try:\n",
    "    resultado = multiplicacion_matrices(matriz_a, matriz_b)\n",
    "    print(\"Las matrices pueden multiplicarse.\")\n",
    "    print(\"Resultado de la multiplicación:\")\n",
    "    for fila in resultado:\n",
    "        print(fila)\n",
    "except ValueError as e:\n",
    "    print(e)\n"
   ]
  },
  {
   "cell_type": "code",
   "execution_count": 77,
   "id": "848ddafd",
   "metadata": {},
   "outputs": [
    {
     "name": "stdout",
     "output_type": "stream",
     "text": [
      "Las matrices pueden multiplicarse.\n",
      "Resultado de la multiplicación:\n",
      "[58, 64]\n",
      "[139, 154]\n",
      "\n",
      "Nuevas matrices multiplicadas:\n",
      "[2, 4]\n",
      "[1, 5]\n"
     ]
    }
   ],
   "source": [
    "def multiplicacion_matrices(matriz_a, matriz_b):\n",
    "    if len(matriz_a[0]) != len(matriz_b):\n",
    "        raise ValueError(\"Las matrices no pueden multiplicarse debido a dimensiones incompatibles.\")\n",
    "    num_filas_a = len(matriz_a)\n",
    "    num_columnas_a = len(matriz_a[0])\n",
    "    num_columnas_b = len(matriz_b[0])\n",
    "    resultado = [[0 for _ in range(num_columnas_b)] for _ in range(num_filas_a)]\n",
    "    for i in range(num_filas_a):\n",
    "        for j in range(num_columnas_b):\n",
    "            for k in range(num_columnas_a):\n",
    "                resultado[i][j] += matriz_a[i][k] * matriz_b[k][j]\n",
    "    return resultado\n",
    "# Función para imprimir una matriz\n",
    "def imprimir_matriz(matriz):\n",
    "    for fila in matriz:\n",
    "        print(fila)\n",
    "# Ejemplo de uso\n",
    "matriz_a = [[1, 2, 3], [4, 5, 6]]\n",
    "matriz_b = [[7, 8], [9, 10], [11, 12]]\n",
    "try:\n",
    "    resultado = multiplicacion_matrices(matriz_a, matriz_b)\n",
    "    print(\"Las matrices pueden multiplicarse.\")\n",
    "    print(\"Resultado de la multiplicación:\")\n",
    "    imprimir_matriz(resultado)\n",
    "except ValueError as e:\n",
    "    print(e)\n",
    "# Ahora, supongamos que tienes nuevas matrices\n",
    "nuevas_matriz_a = [[2, 0], [1, 3]]\n",
    "nuevas_matriz_b = [[1, 2], [0, 1]]\n",
    "try:\n",
    "    nuevo_resultado = multiplicacion_matrices(nuevas_matriz_a, nuevas_matriz_b)\n",
    "    print(\"\\nNuevas matrices multiplicadas:\")\n",
    "    imprimir_matriz(nuevo_resultado)\n",
    "except ValueError as e:\n",
    "    print(e)"
   ]
  },
  {
   "cell_type": "markdown",
   "id": "20eac07c",
   "metadata": {},
   "source": [
    "En este ejemplo, `np.dot` se utiliza para realizar la multiplicación de matrices. Asegúrate de que el número de columnas en la primera matriz sea igual al número de filas en la segunda matriz para que la multiplicación sea válida.\n",
    "Para multiplicación matricial es con @ eje: a @ b"
   ]
  },
  {
   "cell_type": "markdown",
   "id": "6017b1b9",
   "metadata": {},
   "source": [
    "[Regresar al Contenido](#Contenido)"
   ]
  },
  {
   "cell_type": "markdown",
   "id": "fde24703",
   "metadata": {},
   "source": [
    "<hr>\n",
    "<h2>Matrices Especiales</h2>\n",
    "\n",
    "<h3>Matriz Identidad</h3>\n",
    "\n",
    "Es una [matriz cuadrada](#Glosario) que tiene todos los elementos de su diagonal iguales a 1 y el resto igual a 0. Se denotan por $I_n$ por ejemplo la matriz identidad de dimensión 3 es:\n",
    "\n",
    "$$I_3 = \n",
    "\\begin{bmatrix}\n",
    "1 & 0 & 0\\\\\n",
    "0 & 1 & 0\\\\\n",
    "0 & 0 & 1\\\\\n",
    "\\end{bmatrix}\n",
    "$$\n",
    "\n",
    "Está matriz cumple que para toda [matriz cuadrada](#Glosario) $A_n$ se cumple que:\n",
    "\n",
    "$$ A_n I_n = I_n A_n = A_n$$\n"
   ]
  },
  {
   "cell_type": "markdown",
   "id": "7ca32fd5",
   "metadata": {},
   "source": [
    "Una matriz identidad es una matriz cuadrada con unos en su diagonal principal y ceros en el resto de las entradas. Puedes crear una matriz identidad con NumPy utilizando `numpy.eye`.\n"
   ]
  },
  {
   "cell_type": "code",
   "execution_count": 80,
   "id": "131a4d60",
   "metadata": {
    "scrolled": true
   },
   "outputs": [
    {
     "name": "stdout",
     "output_type": "stream",
     "text": [
      "Matriz Identidad:\n",
      "[[1. 0. 0.]\n",
      " [0. 1. 0.]\n",
      " [0. 0. 1.]]\n"
     ]
    }
   ],
   "source": [
    "import numpy as np\n",
    "# Crear una matriz identidad de tamaño 3x3\n",
    "matriz_identidad = np.eye(3)\n",
    "# Imprimir la matriz identidad\n",
    "print(\"Matriz Identidad:\")\n",
    "print(matriz_identidad)"
   ]
  },
  {
   "cell_type": "markdown",
   "id": "3c7e219d",
   "metadata": {},
   "source": [
    "En este ejemplo, `np.eye(3)` crea una matriz identidad de tamaño 3x3. Puedes ajustar el tamaño de la matriz identidad según tus necesidades. Cada valor en la diagonal principal es 1, y todos los demás valores son 0."
   ]
  },
  {
   "cell_type": "markdown",
   "id": "413b01dc",
   "metadata": {},
   "source": [
    "[Regresar al Contenido](#Contenido)"
   ]
  },
  {
   "cell_type": "markdown",
   "id": "cc7103a4",
   "metadata": {},
   "source": [
    "<h3>Matriz Diagonal</h3>\n",
    "\n",
    "Es una matriz que tiene como elementos 0 excepto los de la diagonal principal ($i = j$), si la matriz es cuadrada cumple que su determinante es igual al producto de los elementos de la diagonal, y que sus autovalores son los elementos de la diagonal.\n",
    "\n",
    "$$A_3 = \n",
    "\\begin{bmatrix}\n",
    "4 & 0 & 0\\\\\n",
    "0 & 7 & 0\\\\\n",
    "0 & 0 & 1\\\\\n",
    "\\end{bmatrix}\n",
    "$$\n",
    "\n",
    "$$B_{3 \\times 4} = \n",
    "\\begin{bmatrix}\n",
    "4 & 0 & 0 & 0\\\\\n",
    "0 & 7 & 0 & 0\\\\\n",
    "0 & 0 & 1 & 0\\\\\n",
    "\\end{bmatrix}\n",
    "$$"
   ]
  },
  {
   "cell_type": "markdown",
   "id": "3782eb64",
   "metadata": {},
   "source": [
    "Puedes crear una matriz diagonal utilizando la función `numpy.diag`"
   ]
  },
  {
   "cell_type": "code",
   "execution_count": 78,
   "id": "ce4089d5",
   "metadata": {},
   "outputs": [
    {
     "name": "stdout",
     "output_type": "stream",
     "text": [
      "Matriz Diagonal:\n",
      "[[1 0 0]\n",
      " [0 2 0]\n",
      " [0 0 3]]\n"
     ]
    }
   ],
   "source": [
    "import numpy as np\n",
    "# Crear una matriz diagonal con valores específicos\n",
    "matriz_diagonal = np.diag([1, 2, 3])\n",
    "# Imprimir la matriz diagonal\n",
    "print(\"Matriz Diagonal:\")\n",
    "print(matriz_diagonal)"
   ]
  },
  {
   "cell_type": "markdown",
   "id": "dddf150a",
   "metadata": {},
   "source": [
    "En este ejemplo, `np.diag([1, 2, 3])` crea una matriz diagonal con los valores `[1, 2, 3]` en la diagonal principal. Puedes ajustar los valores según tus necesidades. Si deseas una matriz cuadrada de tamaño `n x n` con todos los elementos fuera de la diagonal principal iguales a cero, simplemente proporciona un solo valor a `np.diag`. Por ejemplo:"
   ]
  },
  {
   "cell_type": "code",
   "execution_count": 79,
   "id": "5997339d",
   "metadata": {},
   "outputs": [
    {
     "name": "stdout",
     "output_type": "stream",
     "text": [
      "Matriz Diagonal Cuadrada:\n",
      "[[5 0 0 0]\n",
      " [0 5 0 0]\n",
      " [0 0 5 0]\n",
      " [0 0 0 5]]\n"
     ]
    }
   ],
   "source": [
    "# Crear una matriz diagonal cuadrada de tamaño 4x4 con valor 5 en la diagonal principal\n",
    "matriz_diagonal_cuadrada = np.diag([5] * 4)\n",
    "# Imprimir la matriz diagonal cuadrada\n",
    "print(\"Matriz Diagonal Cuadrada:\")\n",
    "print(matriz_diagonal_cuadrada)"
   ]
  },
  {
   "cell_type": "markdown",
   "id": "da5033a7",
   "metadata": {},
   "source": [
    "En este caso, `np.diag([5] * 4)` crea una matriz cuadrada de tamaño 4x4 con 5 en la diagonal principal y ceros en el resto de los elementos."
   ]
  },
  {
   "cell_type": "markdown",
   "id": "052bdca3",
   "metadata": {},
   "source": [
    "[Regresar al Contenido](#Contenido)"
   ]
  },
  {
   "cell_type": "markdown",
   "id": "5598049f",
   "metadata": {},
   "source": [
    "<h3>Matriz Triangular</h3>\n",
    "\n",
    "\n",
    "Una matriz es una matriz triangular superior si tiene 0's por debajo de la diagonal, es decir, si $a_{ij} = 0$, para $ i > j$\n",
    "\n",
    "$$ \n",
    "\\begin{bmatrix}\n",
    "4 & 5 & 6\\\\\n",
    "0 & 7 & 8\\\\\n",
    "0 & 0 & 1\\\\\n",
    "\\end{bmatrix}\n",
    "$$\n",
    "\n",
    "y se dice triangular inferior si tiene 0's por encima de la diagonal, es decir, si $a_{ij} = 0$, para $ i < j$\n",
    "\n",
    "$$ \n",
    "\\begin{bmatrix}\n",
    "4 & 0 & 0\\\\\n",
    "5 & 7 & 0\\\\\n",
    "6 & 8 & 1\\\\\n",
    "\\end{bmatrix}\n",
    "$$\n",
    "\n",
    "Tienen la propiedad de que su determinante es el producto de los elementos de la diagonal, la transpuesta de una matriz triangular superior es una matriz triangular inferior y viceversa, y sus valores propios son los elementos de la diagonal\n",
    "\n"
   ]
  },
  {
   "cell_type": "markdown",
   "id": "b041a8e6",
   "metadata": {},
   "source": [
    "Una matriz triangular es una matriz cuadrada en la que todos los elementos por encima o por debajo de la diagonal principal son cero. Puedes crear matrices triangulares superiores o inferiores con NumPy. "
   ]
  },
  {
   "cell_type": "code",
   "execution_count": 81,
   "id": "8c9614cd",
   "metadata": {},
   "outputs": [
    {
     "name": "stdout",
     "output_type": "stream",
     "text": [
      "Matriz Triangular Superior:\n",
      "[[1 2 3]\n",
      " [0 4 5]\n",
      " [0 0 6]]\n"
     ]
    }
   ],
   "source": [
    "import numpy as np\n",
    "# Crear una matriz triangular superior de tamaño 3x3\n",
    "matriz_triangular_superior = np.array([[1, 2, 3],\n",
    "                                       [0, 4, 5],\n",
    "                                       [0, 0, 6]])\n",
    "# Imprimir la matriz triangular superior\n",
    "print(\"Matriz Triangular Superior:\")\n",
    "print(matriz_triangular_superior)"
   ]
  },
  {
   "cell_type": "markdown",
   "id": "ebd31baa",
   "metadata": {},
   "source": [
    "En este ejemplo, todos los elementos por debajo de la diagonal principal son cero."
   ]
  },
  {
   "cell_type": "markdown",
   "id": "abb4ab2c",
   "metadata": {},
   "source": [
    "#Matriz Triangular Inferior:"
   ]
  },
  {
   "cell_type": "code",
   "execution_count": 82,
   "id": "34131582",
   "metadata": {},
   "outputs": [
    {
     "name": "stdout",
     "output_type": "stream",
     "text": [
      "Matriz Triangular Inferior:\n",
      "[[1 0 0]\n",
      " [4 5 0]\n",
      " [7 8 9]]\n"
     ]
    }
   ],
   "source": [
    "import numpy as np\n",
    "# Crear una matriz triangular inferior de tamaño 3x3\n",
    "matriz_triangular_inferior = np.array([[1, 0, 0],\n",
    "                                       [4, 5, 0],\n",
    "                                       [7, 8, 9]])\n",
    "# Imprimir la matriz triangular inferior\n",
    "print(\"Matriz Triangular Inferior:\")\n",
    "print(matriz_triangular_inferior)"
   ]
  },
  {
   "cell_type": "markdown",
   "id": "b357b618",
   "metadata": {},
   "source": [
    "En este ejemplo, todos los elementos por encima de la diagonal principal son cero."
   ]
  },
  {
   "cell_type": "markdown",
   "id": "715da4dc",
   "metadata": {},
   "source": [
    "[Regresar al Contenido](#Contenido)"
   ]
  },
  {
   "cell_type": "markdown",
   "id": "69ffa0e8",
   "metadata": {},
   "source": [
    "<h3>Matriz Elemental</h3>\n",
    "\n",
    "Una matriz elemental de orden n es una matriz que se obtiene a partir de la matriz identidad $I_{n}$ aplicando solo una operación elemental de fila. Por ejemplo:\n",
    "\n",
    "- Multiplicar un renglón por un escalar\n",
    "$$\n",
    "\\begin{bmatrix}\n",
    "1 & 0 & 0\\\\\n",
    "0 & \\alpha & 0 \\\\\n",
    "0 & 0 & 1\\\\\n",
    "\\end{bmatrix}\n",
    "$$\n",
    "\n",
    "- Intercambiar renglones\n",
    "\n",
    "$$\n",
    "\\begin{bmatrix}\n",
    "1 & 0 & 0\\\\\n",
    "0 & 0 & 1\\\\\n",
    "0 & 1 & 0\\\\\n",
    "\\end{bmatrix}\n",
    "$$\n",
    "\n",
    "- Sumar a un renglón un múltiplo de otro\n",
    "\n",
    "$$\n",
    "\\begin{bmatrix}\n",
    "1 & 0 & 0\\\\\n",
    "\\alpha & 1 & 0 \\\\\n",
    "0 & 0 & 1\\\\\n",
    "\\end{bmatrix}\n",
    "$$\n",
    "\n",
    "\n",
    "Note que multiplicar una matriz elemental $E$ por una matriz $A$ es equivalente a aplicar la operación elemental de $E$ sobre $A$.\n",
    "\n"
   ]
  },
  {
   "cell_type": "markdown",
   "id": "9fdeac77",
   "metadata": {},
   "source": [
    "Una matriz elemental es una matriz resultante de realizar una única operación elemental (como intercambiar dos filas, multiplicar una fila por una constante no nula o sumar un múltiplo de una fila a otra fila) en la matriz identidad."
   ]
  },
  {
   "cell_type": "markdown",
   "id": "526d9f81",
   "metadata": {},
   "source": [
    "Intercambiar dos filas:"
   ]
  },
  {
   "cell_type": "code",
   "execution_count": 85,
   "id": "442ca64b",
   "metadata": {},
   "outputs": [
    {
     "name": "stdout",
     "output_type": "stream",
     "text": [
      "Resultado después de intercambiar filas:\n",
      "[[1. 0. 0.]\n",
      " [0. 0. 1.]\n",
      " [0. 1. 0.]]\n"
     ]
    }
   ],
   "source": [
    "import numpy as np\n",
    "# Matriz identidad\n",
    "matriz_identidad = np.eye(3)\n",
    "# Intercambiar filas 1 y 2\n",
    "matriz_elemental_intercambio = np.array([[1, 0, 0],\n",
    "                                         [0, 0, 1],\n",
    "                                         [0, 1, 0]])\n",
    "resultado = matriz_elemental_intercambio @ matriz_identidad\n",
    "print(\"Resultado después de intercambiar filas:\")\n",
    "print(resultado)"
   ]
  },
  {
   "cell_type": "markdown",
   "id": "0843e937",
   "metadata": {},
   "source": [
    "*Multiplicar una fila por una constante no nula:"
   ]
  },
  {
   "cell_type": "code",
   "execution_count": 86,
   "id": "4a0c133d",
   "metadata": {},
   "outputs": [
    {
     "name": "stdout",
     "output_type": "stream",
     "text": [
      "Resultado después de multiplicar fila por constante:\n",
      "[[1. 0. 0.]\n",
      " [0. 2. 0.]\n",
      " [0. 0. 1.]]\n"
     ]
    }
   ],
   "source": [
    "import numpy as np\n",
    "# Matriz identidad\n",
    "matriz_identidad = np.eye(3)\n",
    "# Multiplicar la fila 2 por 2\n",
    "matriz_elemental_multiplicacion = np.array([[1, 0, 0],\n",
    "                                            [0, 2, 0],\n",
    "                                            [0, 0, 1]])\n",
    "resultado = matriz_elemental_multiplicacion @ matriz_identidad\n",
    "print(\"Resultado después de multiplicar fila por constante:\")\n",
    "print(resultado)"
   ]
  },
  {
   "cell_type": "markdown",
   "id": "80a9d30a",
   "metadata": {},
   "source": [
    "Sumar un múltiplo de una fila a otra fila:"
   ]
  },
  {
   "cell_type": "code",
   "execution_count": 88,
   "id": "22aec49c",
   "metadata": {},
   "outputs": [
    {
     "name": "stdout",
     "output_type": "stream",
     "text": [
      "Resultado después de sumar múltiplo de fila a otra fila:\n",
      "[[1. 0. 0.]\n",
      " [3. 5. 0.]\n",
      " [0. 0. 7.]]\n"
     ]
    }
   ],
   "source": [
    "import numpy as np\n",
    "# Matriz identidad\n",
    "matriz_identidad = np.eye(3)\n",
    "# Sumar 3 veces la fila 1 a la fila 2\n",
    "matriz_elemental_suma = np.array([[1, 0, 0],\n",
    "                                  [3, 5, 0],\n",
    "                                  [0, 0, 7]])\n",
    "resultado = matriz_elemental_suma @ matriz_identidad\n",
    "print(\"Resultado después de sumar múltiplo de fila a otra fila:\")\n",
    "print(resultado)"
   ]
  },
  {
   "cell_type": "markdown",
   "id": "8ca7f4d2",
   "metadata": {},
   "source": [
    "[Regresar al Contenido](#Contenido)"
   ]
  },
  {
   "cell_type": "markdown",
   "id": "17251e02",
   "metadata": {},
   "source": [
    "<h3>Matriz Transpuesta</h3>\n",
    "\n",
    "$$$$\n",
    "La matriz transpuesta de una matriz $A_{m \\times n}$ es una matriz $A_{n \\times m}^T$ que tiene por filas las columnas de $A_{m \\times n}$, es decir su elemento $a_{ij}^T = a_{ji}$.\n",
    "\n",
    "\n",
    "<img src = https://upload.wikimedia.org/wikipedia/commons/e/e4/Matrix_transpose.gif width = 300 height = 300>"
   ]
  },
  {
   "cell_type": "markdown",
   "id": "cc14385b",
   "metadata": {},
   "source": [
    "La matriz transpuesta de una matriz se obtiene intercambiando sus filas por columnas. En Python, puedes calcular la matriz transpuesta utilizando NumPy."
   ]
  },
  {
   "cell_type": "code",
   "execution_count": 92,
   "id": "507661cf",
   "metadata": {},
   "outputs": [
    {
     "name": "stdout",
     "output_type": "stream",
     "text": [
      "Matriz Original:\n",
      "[[1 2 3]\n",
      " [4 5 6]\n",
      " [7 8 9]]\n",
      "\n",
      "Matriz Transpuesta:\n",
      "[[1 4 7]\n",
      " [2 5 8]\n",
      " [3 6 9]]\n"
     ]
    }
   ],
   "source": [
    "import numpy as np\n",
    "# Definir una matriz\n",
    "matriz = np.array([[1, 2, 3],\n",
    "                   [4, 5, 6],\n",
    "                   [7, 8, 9]])\n",
    "# Calcular la matriz transpuesta\n",
    "matriz_transpuesta = np.transpose(matriz)\n",
    "# O puedes usar el atributo T\n",
    "# matriz_transpuesta = matriz.T\n",
    "# Imprimir la matriz original y la transpuesta\n",
    "print(\"Matriz Original:\")\n",
    "print(matriz)\n",
    "print(\"\\nMatriz Transpuesta:\")\n",
    "print(matriz_transpuesta)"
   ]
  },
  {
   "cell_type": "markdown",
   "id": "83e78748",
   "metadata": {},
   "source": [
    "En este ejemplo, `np.transpose(matriz)` (o `matriz.T`) calcula y devuelve la matriz transpuesta. Cada elemento `matriz[i, j]` se convierte en `matriz_transpuesta[j, i]`. Esto intercambia filas por columnas.\n",
    "La matriz transpuesta es útil en diversas operaciones matriciales y transformaciones lineales."
   ]
  },
  {
   "cell_type": "markdown",
   "id": "9b78c295",
   "metadata": {},
   "source": [
    "[Regresar al Contenido](#Contenido)"
   ]
  },
  {
   "cell_type": "markdown",
   "id": "5e56ea54",
   "metadata": {},
   "source": [
    "<h3>Matriz Inversa</h3>\n",
    "\n",
    "Se dice que una matriz cuadrada tiene inversa, si existe una matriz $A^{-1}$ tal que:\n",
    "\n",
    "$$ A A^{-1} = A^{-1} A = I_n $$\n",
    "\n",
    "Si una matriz no tiene inversa se dice matriz singular. Una matriz tiene inversa si y solo si su determinante es no nulo"
   ]
  },
  {
   "cell_type": "markdown",
   "id": "35c603c1",
   "metadata": {},
   "source": [
    "Para calcular la matriz inversa en Python, puedes usar la biblioteca NumPy. Aquí tienes un ejemplo de cómo hacerlo:"
   ]
  },
  {
   "cell_type": "code",
   "execution_count": 91,
   "id": "905138cc",
   "metadata": {},
   "outputs": [
    {
     "name": "stdout",
     "output_type": "stream",
     "text": [
      "Matriz Inversa:\n",
      "[[ 4. -1.]\n",
      " [-7.  2.]]\n"
     ]
    }
   ],
   "source": [
    "import numpy as np\n",
    "# Definir una matriz\n",
    "matriz = np.array([[2, 1],\n",
    "                   [7, 4]])\n",
    "# Calcular la matriz inversa\n",
    "matriz_inversa = np.linalg.inv(matriz)\n",
    "# Imprimir la matriz inversa\n",
    "print(\"Matriz Inversa:\")\n",
    "print(matriz_inversa)"
   ]
  },
  {
   "cell_type": "markdown",
   "id": "abb74f3c",
   "metadata": {},
   "source": [
    "En este ejemplo, `np.linalg.inv(matriz)` calcula la matriz inversa de la matriz dada. Ten en cuenta que no todas las matrices tienen una matriz inversa. Si la matriz no es invertible, la función `np.linalg.inv` generará un error.\n",
    "La matriz inversa se utiliza comúnmente para resolver sistemas de ecuaciones lineales y realizar transformaciones lineales en álgebra lineal."
   ]
  },
  {
   "cell_type": "markdown",
   "id": "d611ba3f",
   "metadata": {},
   "source": [
    "[Regresar al Contenido](#Contenido)"
   ]
  },
  {
   "cell_type": "markdown",
   "id": "ccd96a5f",
   "metadata": {},
   "source": [
    "<h3>Matriz Ortogonal</h3>\n",
    "\n",
    "Una matriz se dice ortogonal cuando su transpuesta es igual a su inversa."
   ]
  },
  {
   "cell_type": "markdown",
   "id": "d4819cff",
   "metadata": {},
   "source": [
    "Una matriz ortogonal es una matriz cuadrada cuya transpuesta es igual a su inversa. Es decir, si tienes una matriz \\(A\\), entonces \\(A^T \\cdot A = A \\cdot A^T = I\\), donde \\(I\\) es la matriz identidad. Aquí tienes un ejemplo de una matriz ortogonal en Python utilizando NumPy:"
   ]
  },
  {
   "cell_type": "code",
   "execution_count": 93,
   "id": "3f51ee64",
   "metadata": {},
   "outputs": [
    {
     "name": "stdout",
     "output_type": "stream",
     "text": [
      "Matriz Ortogonal:\n",
      "[[ 0 -1]\n",
      " [ 1  0]]\n",
      "\n",
      "Producto Transpuesta:\n",
      "[[1 0]\n",
      " [0 1]]\n",
      "\n",
      "Producto Original:\n",
      "[[1 0]\n",
      " [0 1]]\n"
     ]
    }
   ],
   "source": [
    "import numpy as np\n",
    "# Definir una matriz ortogonal 2x2\n",
    "matriz_ortogonal = np.array([[0, -1],\n",
    "                             [1,  0]])\n",
    "# Verificar la condición de ortogonalidad: A^T * A = A * A^T = I\n",
    "producto_transpuesta = np.dot(matriz_ortogonal.T, matriz_ortogonal)\n",
    "producto_original = np.dot(matriz_ortogonal, matriz_ortogonal.T)\n",
    "# Imprimir la matriz original y los productos\n",
    "print(\"Matriz Ortogonal:\")\n",
    "print(matriz_ortogonal)\n",
    "print(\"\\nProducto Transpuesta:\")\n",
    "print(producto_transpuesta)\n",
    "print(\"\\nProducto Original:\")\n",
    "print(producto_original)"
   ]
  },
  {
   "cell_type": "markdown",
   "id": "07daa902",
   "metadata": {},
   "source": [
    "En este ejemplo, la matriz ortogonal es una matriz de rotación de 90 grados en sentido antihorario. Puedes verificar que cumple con la condición de ortogonalidad observando que el producto de la matriz original con su transpuesta y viceversa resulta en la matriz identidad.\n",
    "Recuerda que hay muchas otras matrices ortogonales, y este es solo un ejemplo específico. NumPy proporciona funciones para crear matrices ortogonales más generales, como `numpy.linalg.qr` y `numpy.linalg.svd`."
   ]
  }
 ],
 "metadata": {
  "@webio": {
   "lastCommId": null,
   "lastKernelId": null
  },
  "kernelspec": {
   "display_name": "Python 3 (ipykernel)",
   "language": "python",
   "name": "python3"
  },
  "language_info": {
   "codemirror_mode": {
    "name": "ipython",
    "version": 3
   },
   "file_extension": ".py",
   "mimetype": "text/x-python",
   "name": "python",
   "nbconvert_exporter": "python",
   "pygments_lexer": "ipython3",
   "version": "3.11.5"
  },
  "toc": {
   "base_numbering": 1,
   "nav_menu": {},
   "number_sections": true,
   "sideBar": true,
   "skip_h1_title": false,
   "title_cell": "Table of Contents",
   "title_sidebar": "Contents",
   "toc_cell": false,
   "toc_position": {},
   "toc_section_display": true,
   "toc_window_display": false
  },
  "varInspector": {
   "cols": {
    "lenName": 16,
    "lenType": 16,
    "lenVar": 40
   },
   "kernels_config": {
    "python": {
     "delete_cmd_postfix": "",
     "delete_cmd_prefix": "del ",
     "library": "var_list.py",
     "varRefreshCmd": "print(var_dic_list())"
    },
    "r": {
     "delete_cmd_postfix": ") ",
     "delete_cmd_prefix": "rm(",
     "library": "var_list.r",
     "varRefreshCmd": "cat(var_dic_list()) "
    }
   },
   "types_to_exclude": [
    "module",
    "function",
    "builtin_function_or_method",
    "instance",
    "_Feature"
   ],
   "window_display": false
  }
 },
 "nbformat": 4,
 "nbformat_minor": 5
}
